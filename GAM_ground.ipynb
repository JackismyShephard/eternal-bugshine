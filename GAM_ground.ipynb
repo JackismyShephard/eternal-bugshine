{
 "cells": [
  {
   "cell_type": "markdown",
   "metadata": {},
   "source": [
    "# Get model to use as encoder and comparator"
   ]
  },
  {
   "cell_type": "code",
   "execution_count": 1,
   "metadata": {},
   "outputs": [],
   "source": [
    "\n",
    "from torchvision.datasets import ImageFolder\n",
    "from src.utils.config import RESNET34_FULL, RESNET18_FULL\n",
    "from src.utils.config import BEETLE_DATASET, DEFAULT_TEST_PATH\n",
    "from src.models import download_model, load_model_weights_and_metrics\n",
    "import torchvision\n",
    "import torch.nn as nn\n",
    "import torch\n",
    "from torch.utils.data import DataLoader\n",
    "from src.GAM import GAM_fit\n",
    "import numpy as np\n",
    "import copy"
   ]
  },
  {
   "cell_type": "code",
   "execution_count": 2,
   "metadata": {},
   "outputs": [],
   "source": [
    "dataset_config = BEETLE_DATASET\n",
    "model_config = RESNET34_FULL"
   ]
  },
  {
   "cell_type": "code",
   "execution_count": 3,
   "metadata": {},
   "outputs": [],
   "source": [
    "model = download_model(model_config, dataset_config)\n",
    "_ = load_model_weights_and_metrics(model, model_config)\n",
    "model = model.eval()"
   ]
  },
  {
   "cell_type": "markdown",
   "metadata": {},
   "source": [
    "# Data for Generator"
   ]
  },
  {
   "cell_type": "code",
   "execution_count": 4,
   "metadata": {},
   "outputs": [],
   "source": [
    "transformer = torchvision.transforms.Compose([\n",
    "    torchvision.transforms.Resize((224, 448)),\n",
    "    torchvision.transforms.ToTensor(),\n",
    "    torchvision.transforms.Normalize(0.5, 0.5)])\n"
   ]
  },
  {
   "cell_type": "code",
   "execution_count": 5,
   "metadata": {},
   "outputs": [],
   "source": [
    "gamset_sub = ImageFolder('./data/beetles/images_subset/', transform = transformer)\n",
    "dataloader_sub = DataLoader(gamset_sub, batch_size = 8, num_workers = 12, shuffle=True)"
   ]
  },
  {
   "cell_type": "code",
   "execution_count": 6,
   "metadata": {},
   "outputs": [],
   "source": [
    "gamset = ImageFolder(dataset_config['image_folder_path'], transform = transformer)\n",
    "dataloader = DataLoader(gamset, batch_size = 16, num_workers = 12, shuffle=True)"
   ]
  },
  {
   "cell_type": "markdown",
   "metadata": {},
   "source": [
    "# Discriminator and generator"
   ]
  },
  {
   "cell_type": "code",
   "execution_count": 7,
   "metadata": {},
   "outputs": [],
   "source": [
    "def norm_img(img, mean, std):\n",
    "    res = (img + 1) / 2\n",
    "    return (res - mean) / std"
   ]
  },
  {
   "cell_type": "code",
   "execution_count": 8,
   "metadata": {},
   "outputs": [],
   "source": [
    "def norm_latent(y):\n",
    "    ret = y - torch.min(y)\n",
    "    return ret / torch.max(ret)\n",
    "\n",
    "def norm_latent_none(y):\n",
    "    return y\n",
    "\n",
    "def norm_soft(y):\n",
    "    print(y.shape)\n",
    "    num = torch.exp(y.reshape(-1,y.shape[1])*0.5)\n",
    "    denom = torch.sum(num, 1).reshape(-1,1)\n",
    "    return (num/denom).reshape(-1,y.shape[1],1,1)*10"
   ]
  },
  {
   "cell_type": "code",
   "execution_count": 9,
   "metadata": {},
   "outputs": [],
   "source": [
    "class D_block(nn.Module):\n",
    "    def __init__(self, out_channels, in_channels=3, kernel_size=4, strides=2,\n",
    "                padding=1, alpha=0.2, **kwargs):\n",
    "        super(D_block, self).__init__(**kwargs)\n",
    "        self.conv2d = nn.Conv2d(in_channels, out_channels, kernel_size,\n",
    "                                strides, padding, bias=False)\n",
    "        self.batch_norm = nn.BatchNorm2d(out_channels)\n",
    "        self.activation = nn.LeakyReLU(alpha, inplace=True)\n",
    "\n",
    "    def forward(self, X):\n",
    "        return self.activation(self.batch_norm(self.conv2d(X)))"
   ]
  },
  {
   "cell_type": "code",
   "execution_count": 10,
   "metadata": {},
   "outputs": [],
   "source": [
    "n_D = 64\n",
    "net_D = nn.Sequential(\n",
    "    D_block(n_D),  # Output: (64, 32, 32)\n",
    "    D_block(in_channels=n_D, out_channels=n_D*2),  # Output: (64 * 2, 16, 16)\n",
    "    D_block(in_channels=n_D*2, out_channels=n_D*4),  # Output: (64 * 4, 8, 8)\n",
    "    D_block(in_channels=n_D*4, out_channels=n_D*8),  # Output: (64 * 8, 4, 4)\n",
    "    D_block(in_channels=n_D*8, out_channels=n_D*16),  # Output: (64 * 8, 4, 4)\n",
    "    nn.Conv2d(in_channels=n_D*16, out_channels=1,\n",
    "              kernel_size=(7,14), bias=False))  # Output: (1, 1, 1)"
   ]
  },
  {
   "cell_type": "code",
   "execution_count": 11,
   "metadata": {},
   "outputs": [],
   "source": [
    "class G_block(nn.Module):\n",
    "    def __init__(self, out_channels, in_channels=3, kernel_size=(4,4), strides=(2,2),\n",
    "                 padding=(1,1), **kwargs):\n",
    "        super(G_block, self).__init__(**kwargs)\n",
    "        self.conv2d_trans = nn.ConvTranspose2d(in_channels, out_channels,\n",
    "                                kernel_size, strides, padding, bias=False)\n",
    "        self.batch_norm = nn.BatchNorm2d(out_channels)\n",
    "        self.activation = nn.ReLU()\n",
    "\n",
    "    def forward(self, X):\n",
    "        return self.activation(self.batch_norm(self.conv2d_trans(X)))"
   ]
  },
  {
   "cell_type": "code",
   "execution_count": 12,
   "metadata": {},
   "outputs": [],
   "source": [
    "n_G = 64\n",
    "net_G = nn.Sequential(\n",
    "    G_block(in_channels=197, out_channels=n_G*16, kernel_size=(7,14),\n",
    "            strides=1, padding=0),                  # Output: (64 * 16, 7, 14)\n",
    "    G_block(in_channels=n_G*16, out_channels=n_G*8), # Output: (64 * 8, 14, 28)\n",
    "    G_block(in_channels=n_G*8, out_channels=n_G*4), # Output: (64 * 4, 28, 56)\n",
    "    G_block(in_channels=n_G*4, out_channels=n_G*2), # Output: (64 * 2, 56, 112)\n",
    "    G_block(in_channels=n_G*2, out_channels=n_G),   # Output: (64, 112, 224)\n",
    "    nn.ConvTranspose2d(in_channels=n_G, out_channels=3,\n",
    "                       kernel_size=4, stride=2, padding=1, bias=False),\n",
    "    nn.Tanh())  # Output: (3, 224, 448)\n",
    "\n",
    "\n",
    "for w in net_D.parameters():\n",
    "        nn.init.normal_(w, 0, 0.02)\n",
    "for w in net_G.parameters():\n",
    "        nn.init.normal_(w, 0, 0.02)"
   ]
  },
  {
   "cell_type": "code",
   "execution_count": 13,
   "metadata": {},
   "outputs": [],
   "source": [
    "net_G2 = nn.Sequential(\n",
    "    G_block(in_channels=1000, out_channels=n_G*16, kernel_size=(7,14),\n",
    "            strides=1, padding=0),                  # Output: (64 * 16, 7, 14)\n",
    "    G_block(in_channels=n_G*16, out_channels=n_G*8), # Output: (64 * 8, 14, 28)\n",
    "    G_block(in_channels=n_G*8, out_channels=n_G*4), # Output: (64 * 4, 28, 56)\n",
    "    G_block(in_channels=n_G*4, out_channels=n_G*2), # Output: (64 * 2, 56, 112)\n",
    "    G_block(in_channels=n_G*2, out_channels=n_G),   # Output: (64, 112, 224)\n",
    "    nn.ConvTranspose2d(in_channels=n_G, out_channels=3,\n",
    "                       kernel_size=4, stride=2, padding=1, bias=False),\n",
    "    nn.Tanh())  # Output: (3, 224, 448)"
   ]
  },
  {
   "cell_type": "markdown",
   "metadata": {},
   "source": [
    "# Testing"
   ]
  },
  {
   "cell_type": "code",
   "execution_count": 14,
   "metadata": {},
   "outputs": [],
   "source": [
    "num_epochs = 400"
   ]
  },
  {
   "cell_type": "code",
   "execution_count": 15,
   "metadata": {},
   "outputs": [],
   "source": [
    "def GAM_test_train(net_G, net_D, net_Cs, net_Es, norm_img, norm_latent, dataloader, lambdas_list, num_epochs, names, in_chanels, static_enc):\n",
    "    # net_G = net\n",
    "    # net_D = net\n",
    "    # net_Cs = [net]\n",
    "    # net_Es = [net, None]\n",
    "    # norm_img = func\n",
    "    # norm_latent = func\n",
    "    # dataloader = dataloader\n",
    "    # lambdas_list = [lambdas]\n",
    "    # num_epochs = int\n",
    "    for i in range(len(lambdas_list)):\n",
    "        for w in net_D.parameters():\n",
    "            nn.init.normal_(w, 0, 0.02)\n",
    "        for w in net_G.parameters():\n",
    "            nn.init.normal_(w, 0, 0.02)\n",
    "        net_D = net_D.to('cuda')\n",
    "        net_G = net_G.to('cuda')\n",
    "        gen, enc, stats = GAM_fit(net_G, net_D, net_Cs[i], norm_img, norm_latent, dataloader, lambdas = lambdas_list[i], num_epochs=num_epochs, enc = net_Es[i], lrs = [0.0002, 0.9, 0.999], input_channels=in_chanels, static_enc=static_enc, display_images=False)\n",
    "        torch.save(gen.state_dict(), DEFAULT_TEST_PATH + names[i] + '_gen.pt')\n",
    "        torch.save(enc.state_dict(), DEFAULT_TEST_PATH + names[i] + '_enc.pt')\n",
    "        np.save(DEFAULT_TEST_PATH + names[i] + '_stats.npy', np.array(stats))"
   ]
  },
  {
   "cell_type": "markdown",
   "metadata": {},
   "source": [
    "## latent code vs one-hot"
   ]
  },
  {
   "cell_type": "code",
   "execution_count": 16,
   "metadata": {},
   "outputs": [],
   "source": [
    "net_Cs = [model]*2\n",
    "net_Es = [model, None]\n",
    "lambdas_list = [np.array([2, 1/20000, 1/100])]*2\n",
    "names = ['latent_code', 'one_hot_code']\n",
    "\n",
    "#GAM_test_train(net_G, net_D, net_Cs, net_Es, norm_img, norm_latent_none, dataloader_sub, lambdas_list, num_epochs, names)\n"
   ]
  },
  {
   "cell_type": "markdown",
   "metadata": {},
   "source": [
    "## Lambda values"
   ]
  },
  {
   "cell_type": "code",
   "execution_count": 17,
   "metadata": {},
   "outputs": [],
   "source": [
    "lambdas_equal = np.array([2,1/40000, 1/2000])\n",
    "lambdas_feat = np.array([2,1/40000, 3/2000])\n",
    "lambdas_adv = np.array([6,1/40000, 1/2000])\n",
    "lambdas_img = np.array([2,3/40000, 1/2000])"
   ]
  },
  {
   "cell_type": "code",
   "execution_count": 18,
   "metadata": {},
   "outputs": [],
   "source": [
    "net_Cs = [model]\n",
    "net_Es = [model]\n",
    "lambdas_list = [lambdas_equal]\n",
    "names = ['lambdas_equal']\n",
    "#GAM_test_train(net_G, net_D, net_Cs, net_Es, norm_img, norm_latent_none, dataloader_sub, lambdas_list, num_epochs, names)"
   ]
  },
  {
   "cell_type": "code",
   "execution_count": 19,
   "metadata": {},
   "outputs": [],
   "source": [
    "net_Cs = [model]\n",
    "net_Es = [model]\n",
    "lambdas_list = [lambdas_img]\n",
    "names = ['lambdas_img']\n",
    "#GAM_test_train(net_G, net_D, net_Cs, net_Es, norm_img, norm_latent_none, dataloader_sub, lambdas_list, num_epochs, names)"
   ]
  },
  {
   "cell_type": "code",
   "execution_count": 20,
   "metadata": {},
   "outputs": [],
   "source": [
    "net_Cs = [model]\n",
    "net_Es = [model]\n",
    "lambdas_list = [lambdas_feat]\n",
    "names = ['lambdas_feat']\n",
    "#GAM_test_train(net_G, net_D, net_Cs, net_Es, norm_img, norm_latent_none, dataloader_sub, lambdas_list, num_epochs, names)"
   ]
  },
  {
   "cell_type": "code",
   "execution_count": 21,
   "metadata": {},
   "outputs": [],
   "source": [
    "net_Cs = [model]\n",
    "net_Es = [model]\n",
    "lambdas_list = [lambdas_adv]\n",
    "names = ['lambdas_adv']\n",
    "#GAM_test_train(net_G, net_D, net_Cs, net_Es, norm_img, norm_latent_none, dataloader_sub, lambdas_list, num_epochs, names)"
   ]
  },
  {
   "cell_type": "markdown",
   "metadata": {},
   "source": [
    "## Test comparitor structure"
   ]
  },
  {
   "cell_type": "code",
   "execution_count": 22,
   "metadata": {},
   "outputs": [],
   "source": [
    "#model1 = copy.deepcopy(model)\n",
    "#model2 = copy.deepcopy(model)"
   ]
  },
  {
   "cell_type": "code",
   "execution_count": 23,
   "metadata": {},
   "outputs": [],
   "source": [
    "# truncate the model\n",
    "import types\n",
    "def _new_forward_impl(self, x: torch.Tensor) -> torch.Tensor:\n",
    "    # See note [TorchScript super()]\n",
    "    x = self.conv1(x)\n",
    "    x = self.bn1(x)\n",
    "    x = self.relu(x)\n",
    "    x = self.maxpool(x)\n",
    "\n",
    "    x = self.layer1(x)\n",
    "    x = self.layer2(x)\n",
    "    x = self.layer3(x)\n",
    "    x = self.layer4(x)\n",
    "\n",
    "    x = self.avgpool(x)\n",
    "    return x\n",
    "model._forward_impl = types.MethodType(_new_forward_impl, model)"
   ]
  },
  {
   "cell_type": "code",
   "execution_count": 24,
   "metadata": {},
   "outputs": [],
   "source": [
    "# truncate the model\n",
    "import types\n",
    "def _new_forward_impl(self, x: torch.Tensor) -> torch.Tensor:\n",
    "    # See note [TorchScript super()]\n",
    "    x = self.conv1(x)\n",
    "    x = self.bn1(x)\n",
    "    x = self.relu(x)\n",
    "    x = self.maxpool(x)\n",
    "\n",
    "    x = self.layer1(x)\n",
    "    x = self.layer2(x)\n",
    "    x = self.layer3(x)\n",
    "    return x\n",
    "#model._forward_impl = types.MethodType(_new_forward_impl, model)\n"
   ]
  },
  {
   "cell_type": "code",
   "execution_count": 25,
   "metadata": {},
   "outputs": [],
   "source": [
    "#net_Cs = [model1, model2]\n",
    "#net_Es = [model]*2\n",
    "lambdas_list = [np.array([2, 1/20000, 1/100])]*2\n",
    "names = ['comp_maxpool', 'comp_layer3']\n",
    "\n",
    "#GAM_test_train(net_G, net_D, net_Cs, net_Es, norm_img, norm_latent_none, dataloader_sub, lambdas_list, num_epochs, names)"
   ]
  },
  {
   "cell_type": "markdown",
   "metadata": {},
   "source": [
    "# Apply the damn thing!!!!!!!!!"
   ]
  },
  {
   "cell_type": "code",
   "execution_count": 26,
   "metadata": {},
   "outputs": [],
   "source": [
    "#gen = GAM_fit(net_G, net_D, model, norm_img, norm_latent, dataloader_sub, num_epochs=100)"
   ]
  },
  {
   "cell_type": "code",
   "execution_count": 27,
   "metadata": {},
   "outputs": [],
   "source": [
    "#torch.save(gen.state_dict(), 'Gen_02.pt' )"
   ]
  },
  {
   "cell_type": "code",
   "execution_count": 28,
   "metadata": {},
   "outputs": [],
   "source": [
    "#model3 = copy.deepcopy(model)"
   ]
  },
  {
   "cell_type": "code",
   "execution_count": 29,
   "metadata": {},
   "outputs": [],
   "source": [
    "num_epochs = 200"
   ]
  },
  {
   "cell_type": "code",
   "execution_count": 30,
   "metadata": {},
   "outputs": [],
   "source": [
    "def _new_forward_impl(self, x: torch.Tensor) -> torch.Tensor:\n",
    "    # See note [TorchScript super()]\n",
    "    x = self.conv1(x)\n",
    "    x = self.bn1(x)\n",
    "    x = self.relu(x)\n",
    "    x = self.maxpool(x)\n",
    "\n",
    "    x = self.layer1(x)\n",
    "    x = self.layer2(x)\n",
    "    x = self.layer3(x)\n",
    "    x = self.layer4(x)\n",
    "    x = self.avgpool(x)\n",
    "    return x\n",
    "#model3._forward_impl = types.MethodType(_new_forward_impl, model3)"
   ]
  },
  {
   "cell_type": "code",
   "execution_count": 31,
   "metadata": {},
   "outputs": [],
   "source": [
    "import torchvision.models as models"
   ]
  },
  {
   "cell_type": "code",
   "execution_count": 32,
   "metadata": {},
   "outputs": [],
   "source": [
    "enc_test = models.resnet18(pretrained=False).to('cuda')"
   ]
  },
  {
   "cell_type": "code",
   "execution_count": 33,
   "metadata": {},
   "outputs": [
    {
     "name": "stdout",
     "output_type": "stream",
     "text": [
      "epoch 200 of 200: average epoch time 156s\n",
      "discriminator loss: 0.16270347548056643\n",
      "image loss: 24.442635730292015\n",
      "adversarial loss: 15.95975103621693\n",
      "feature loss: 2.76522332512309\n",
      "generator loss: 43.16761115034329\n"
     ]
    },
    {
     "data": {
      "image/svg+xml": "<?xml version=\"1.0\" encoding=\"utf-8\" standalone=\"no\"?>\n<!DOCTYPE svg PUBLIC \"-//W3C//DTD SVG 1.1//EN\"\n  \"http://www.w3.org/Graphics/SVG/1.1/DTD/svg11.dtd\">\n<svg xmlns:xlink=\"http://www.w3.org/1999/xlink\" width=\"712.7625pt\" height=\"352.478125pt\" viewBox=\"0 0 712.7625 352.478125\" xmlns=\"http://www.w3.org/2000/svg\" version=\"1.1\">\n <metadata>\n  <rdf:RDF xmlns:dc=\"http://purl.org/dc/elements/1.1/\" xmlns:cc=\"http://creativecommons.org/ns#\" xmlns:rdf=\"http://www.w3.org/1999/02/22-rdf-syntax-ns#\">\n   <cc:Work>\n    <dc:type rdf:resource=\"http://purl.org/dc/dcmitype/StillImage\"/>\n    <dc:date>2021-12-20T10:50:46.420908</dc:date>\n    <dc:format>image/svg+xml</dc:format>\n    <dc:creator>\n     <cc:Agent>\n      <dc:title>Matplotlib v3.5.0, https://matplotlib.org/</dc:title>\n     </cc:Agent>\n    </dc:creator>\n   </cc:Work>\n  </rdf:RDF>\n </metadata>\n <defs>\n  <style type=\"text/css\">*{stroke-linejoin: round; stroke-linecap: butt}</style>\n </defs>\n <g id=\"figure_1\">\n  <g id=\"patch_1\">\n   <path d=\"M -0 352.478125 \nL 712.7625 352.478125 \nL 712.7625 0 \nL -0 0 \nz\n\" style=\"fill: #ffffff\"/>\n  </g>\n  <g id=\"axes_1\">\n   <g id=\"patch_2\">\n    <path d=\"M 33.2875 328.6 \nL 705.5625 328.6 \nL 705.5625 7.2 \nL 33.2875 7.2 \nz\n\" style=\"fill: #ffffff\"/>\n   </g>\n   <g id=\"matplotlib.axis_1\">\n    <g id=\"xtick_1\">\n     <g id=\"line2d_1\">\n      <path d=\"M 63.845455 328.6 \nL 63.845455 7.2 \n\" clip-path=\"url(#pd12604998b)\" style=\"fill: none; stroke: #b0b0b0; stroke-width: 0.8; stroke-linecap: square\"/>\n     </g>\n     <g id=\"line2d_2\">\n      <defs>\n       <path id=\"m82a1e37883\" d=\"M 0 0 \nL 0 3.5 \n\" style=\"stroke: #000000; stroke-width: 0.8\"/>\n      </defs>\n      <g>\n       <use xlink:href=\"#m82a1e37883\" x=\"63.845455\" y=\"328.6\" style=\"stroke: #000000; stroke-width: 0.8\"/>\n      </g>\n     </g>\n     <g id=\"text_1\">\n      <!-- 0 -->\n      <g transform=\"translate(60.664205 343.198437)scale(0.1 -0.1)\">\n       <defs>\n        <path id=\"DejaVuSans-30\" d=\"M 2034 4250 \nQ 1547 4250 1301 3770 \nQ 1056 3291 1056 2328 \nQ 1056 1369 1301 889 \nQ 1547 409 2034 409 \nQ 2525 409 2770 889 \nQ 3016 1369 3016 2328 \nQ 3016 3291 2770 3770 \nQ 2525 4250 2034 4250 \nz\nM 2034 4750 \nQ 2819 4750 3233 4129 \nQ 3647 3509 3647 2328 \nQ 3647 1150 3233 529 \nQ 2819 -91 2034 -91 \nQ 1250 -91 836 529 \nQ 422 1150 422 2328 \nQ 422 3509 836 4129 \nQ 1250 4750 2034 4750 \nz\n\" transform=\"scale(0.015625)\"/>\n       </defs>\n       <use xlink:href=\"#DejaVuSans-30\"/>\n      </g>\n     </g>\n    </g>\n    <g id=\"xtick_2\">\n     <g id=\"line2d_3\">\n      <path d=\"M 140.624235 328.6 \nL 140.624235 7.2 \n\" clip-path=\"url(#pd12604998b)\" style=\"fill: none; stroke: #b0b0b0; stroke-width: 0.8; stroke-linecap: square\"/>\n     </g>\n     <g id=\"line2d_4\">\n      <g>\n       <use xlink:href=\"#m82a1e37883\" x=\"140.624235\" y=\"328.6\" style=\"stroke: #000000; stroke-width: 0.8\"/>\n      </g>\n     </g>\n     <g id=\"text_2\">\n      <!-- 25 -->\n      <g transform=\"translate(134.261735 343.198437)scale(0.1 -0.1)\">\n       <defs>\n        <path id=\"DejaVuSans-32\" d=\"M 1228 531 \nL 3431 531 \nL 3431 0 \nL 469 0 \nL 469 531 \nQ 828 903 1448 1529 \nQ 2069 2156 2228 2338 \nQ 2531 2678 2651 2914 \nQ 2772 3150 2772 3378 \nQ 2772 3750 2511 3984 \nQ 2250 4219 1831 4219 \nQ 1534 4219 1204 4116 \nQ 875 4013 500 3803 \nL 500 4441 \nQ 881 4594 1212 4672 \nQ 1544 4750 1819 4750 \nQ 2544 4750 2975 4387 \nQ 3406 4025 3406 3419 \nQ 3406 3131 3298 2873 \nQ 3191 2616 2906 2266 \nQ 2828 2175 2409 1742 \nQ 1991 1309 1228 531 \nz\n\" transform=\"scale(0.015625)\"/>\n        <path id=\"DejaVuSans-35\" d=\"M 691 4666 \nL 3169 4666 \nL 3169 4134 \nL 1269 4134 \nL 1269 2991 \nQ 1406 3038 1543 3061 \nQ 1681 3084 1819 3084 \nQ 2600 3084 3056 2656 \nQ 3513 2228 3513 1497 \nQ 3513 744 3044 326 \nQ 2575 -91 1722 -91 \nQ 1428 -91 1123 -41 \nQ 819 9 494 109 \nL 494 744 \nQ 775 591 1075 516 \nQ 1375 441 1709 441 \nQ 2250 441 2565 725 \nQ 2881 1009 2881 1497 \nQ 2881 1984 2565 2268 \nQ 2250 2553 1709 2553 \nQ 1456 2553 1204 2497 \nQ 953 2441 691 2322 \nL 691 4666 \nz\n\" transform=\"scale(0.015625)\"/>\n       </defs>\n       <use xlink:href=\"#DejaVuSans-32\"/>\n       <use xlink:href=\"#DejaVuSans-35\" x=\"63.623047\"/>\n      </g>\n     </g>\n    </g>\n    <g id=\"xtick_3\">\n     <g id=\"line2d_5\">\n      <path d=\"M 217.403015 328.6 \nL 217.403015 7.2 \n\" clip-path=\"url(#pd12604998b)\" style=\"fill: none; stroke: #b0b0b0; stroke-width: 0.8; stroke-linecap: square\"/>\n     </g>\n     <g id=\"line2d_6\">\n      <g>\n       <use xlink:href=\"#m82a1e37883\" x=\"217.403015\" y=\"328.6\" style=\"stroke: #000000; stroke-width: 0.8\"/>\n      </g>\n     </g>\n     <g id=\"text_3\">\n      <!-- 50 -->\n      <g transform=\"translate(211.040515 343.198437)scale(0.1 -0.1)\">\n       <use xlink:href=\"#DejaVuSans-35\"/>\n       <use xlink:href=\"#DejaVuSans-30\" x=\"63.623047\"/>\n      </g>\n     </g>\n    </g>\n    <g id=\"xtick_4\">\n     <g id=\"line2d_7\">\n      <path d=\"M 294.181795 328.6 \nL 294.181795 7.2 \n\" clip-path=\"url(#pd12604998b)\" style=\"fill: none; stroke: #b0b0b0; stroke-width: 0.8; stroke-linecap: square\"/>\n     </g>\n     <g id=\"line2d_8\">\n      <g>\n       <use xlink:href=\"#m82a1e37883\" x=\"294.181795\" y=\"328.6\" style=\"stroke: #000000; stroke-width: 0.8\"/>\n      </g>\n     </g>\n     <g id=\"text_4\">\n      <!-- 75 -->\n      <g transform=\"translate(287.819295 343.198437)scale(0.1 -0.1)\">\n       <defs>\n        <path id=\"DejaVuSans-37\" d=\"M 525 4666 \nL 3525 4666 \nL 3525 4397 \nL 1831 0 \nL 1172 0 \nL 2766 4134 \nL 525 4134 \nL 525 4666 \nz\n\" transform=\"scale(0.015625)\"/>\n       </defs>\n       <use xlink:href=\"#DejaVuSans-37\"/>\n       <use xlink:href=\"#DejaVuSans-35\" x=\"63.623047\"/>\n      </g>\n     </g>\n    </g>\n    <g id=\"xtick_5\">\n     <g id=\"line2d_9\">\n      <path d=\"M 370.960576 328.6 \nL 370.960576 7.2 \n\" clip-path=\"url(#pd12604998b)\" style=\"fill: none; stroke: #b0b0b0; stroke-width: 0.8; stroke-linecap: square\"/>\n     </g>\n     <g id=\"line2d_10\">\n      <g>\n       <use xlink:href=\"#m82a1e37883\" x=\"370.960576\" y=\"328.6\" style=\"stroke: #000000; stroke-width: 0.8\"/>\n      </g>\n     </g>\n     <g id=\"text_5\">\n      <!-- 100 -->\n      <g transform=\"translate(361.416826 343.198437)scale(0.1 -0.1)\">\n       <defs>\n        <path id=\"DejaVuSans-31\" d=\"M 794 531 \nL 1825 531 \nL 1825 4091 \nL 703 3866 \nL 703 4441 \nL 1819 4666 \nL 2450 4666 \nL 2450 531 \nL 3481 531 \nL 3481 0 \nL 794 0 \nL 794 531 \nz\n\" transform=\"scale(0.015625)\"/>\n       </defs>\n       <use xlink:href=\"#DejaVuSans-31\"/>\n       <use xlink:href=\"#DejaVuSans-30\" x=\"63.623047\"/>\n       <use xlink:href=\"#DejaVuSans-30\" x=\"127.246094\"/>\n      </g>\n     </g>\n    </g>\n    <g id=\"xtick_6\">\n     <g id=\"line2d_11\">\n      <path d=\"M 447.739356 328.6 \nL 447.739356 7.2 \n\" clip-path=\"url(#pd12604998b)\" style=\"fill: none; stroke: #b0b0b0; stroke-width: 0.8; stroke-linecap: square\"/>\n     </g>\n     <g id=\"line2d_12\">\n      <g>\n       <use xlink:href=\"#m82a1e37883\" x=\"447.739356\" y=\"328.6\" style=\"stroke: #000000; stroke-width: 0.8\"/>\n      </g>\n     </g>\n     <g id=\"text_6\">\n      <!-- 125 -->\n      <g transform=\"translate(438.195606 343.198437)scale(0.1 -0.1)\">\n       <use xlink:href=\"#DejaVuSans-31\"/>\n       <use xlink:href=\"#DejaVuSans-32\" x=\"63.623047\"/>\n       <use xlink:href=\"#DejaVuSans-35\" x=\"127.246094\"/>\n      </g>\n     </g>\n    </g>\n    <g id=\"xtick_7\">\n     <g id=\"line2d_13\">\n      <path d=\"M 524.518136 328.6 \nL 524.518136 7.2 \n\" clip-path=\"url(#pd12604998b)\" style=\"fill: none; stroke: #b0b0b0; stroke-width: 0.8; stroke-linecap: square\"/>\n     </g>\n     <g id=\"line2d_14\">\n      <g>\n       <use xlink:href=\"#m82a1e37883\" x=\"524.518136\" y=\"328.6\" style=\"stroke: #000000; stroke-width: 0.8\"/>\n      </g>\n     </g>\n     <g id=\"text_7\">\n      <!-- 150 -->\n      <g transform=\"translate(514.974386 343.198437)scale(0.1 -0.1)\">\n       <use xlink:href=\"#DejaVuSans-31\"/>\n       <use xlink:href=\"#DejaVuSans-35\" x=\"63.623047\"/>\n       <use xlink:href=\"#DejaVuSans-30\" x=\"127.246094\"/>\n      </g>\n     </g>\n    </g>\n    <g id=\"xtick_8\">\n     <g id=\"line2d_15\">\n      <path d=\"M 601.296916 328.6 \nL 601.296916 7.2 \n\" clip-path=\"url(#pd12604998b)\" style=\"fill: none; stroke: #b0b0b0; stroke-width: 0.8; stroke-linecap: square\"/>\n     </g>\n     <g id=\"line2d_16\">\n      <g>\n       <use xlink:href=\"#m82a1e37883\" x=\"601.296916\" y=\"328.6\" style=\"stroke: #000000; stroke-width: 0.8\"/>\n      </g>\n     </g>\n     <g id=\"text_8\">\n      <!-- 175 -->\n      <g transform=\"translate(591.753166 343.198437)scale(0.1 -0.1)\">\n       <use xlink:href=\"#DejaVuSans-31\"/>\n       <use xlink:href=\"#DejaVuSans-37\" x=\"63.623047\"/>\n       <use xlink:href=\"#DejaVuSans-35\" x=\"127.246094\"/>\n      </g>\n     </g>\n    </g>\n    <g id=\"xtick_9\">\n     <g id=\"line2d_17\">\n      <path d=\"M 678.075697 328.6 \nL 678.075697 7.2 \n\" clip-path=\"url(#pd12604998b)\" style=\"fill: none; stroke: #b0b0b0; stroke-width: 0.8; stroke-linecap: square\"/>\n     </g>\n     <g id=\"line2d_18\">\n      <g>\n       <use xlink:href=\"#m82a1e37883\" x=\"678.075697\" y=\"328.6\" style=\"stroke: #000000; stroke-width: 0.8\"/>\n      </g>\n     </g>\n     <g id=\"text_9\">\n      <!-- 200 -->\n      <g transform=\"translate(668.531947 343.198437)scale(0.1 -0.1)\">\n       <use xlink:href=\"#DejaVuSans-32\"/>\n       <use xlink:href=\"#DejaVuSans-30\" x=\"63.623047\"/>\n       <use xlink:href=\"#DejaVuSans-30\" x=\"127.246094\"/>\n      </g>\n     </g>\n    </g>\n   </g>\n   <g id=\"matplotlib.axis_2\">\n    <g id=\"ytick_1\">\n     <g id=\"line2d_19\">\n      <path d=\"M 33.2875 314.363815 \nL 705.5625 314.363815 \n\" clip-path=\"url(#pd12604998b)\" style=\"fill: none; stroke: #b0b0b0; stroke-width: 0.8; stroke-linecap: square\"/>\n     </g>\n     <g id=\"line2d_20\">\n      <defs>\n       <path id=\"m51cd5fcd04\" d=\"M 0 0 \nL -3.5 0 \n\" style=\"stroke: #000000; stroke-width: 0.8\"/>\n      </defs>\n      <g>\n       <use xlink:href=\"#m51cd5fcd04\" x=\"33.2875\" y=\"314.363815\" style=\"stroke: #000000; stroke-width: 0.8\"/>\n      </g>\n     </g>\n     <g id=\"text_10\">\n      <!-- 0 -->\n      <g transform=\"translate(19.925 318.163034)scale(0.1 -0.1)\">\n       <use xlink:href=\"#DejaVuSans-30\"/>\n      </g>\n     </g>\n    </g>\n    <g id=\"ytick_2\">\n     <g id=\"line2d_21\">\n      <path d=\"M 33.2875 265.24754 \nL 705.5625 265.24754 \n\" clip-path=\"url(#pd12604998b)\" style=\"fill: none; stroke: #b0b0b0; stroke-width: 0.8; stroke-linecap: square\"/>\n     </g>\n     <g id=\"line2d_22\">\n      <g>\n       <use xlink:href=\"#m51cd5fcd04\" x=\"33.2875\" y=\"265.24754\" style=\"stroke: #000000; stroke-width: 0.8\"/>\n      </g>\n     </g>\n     <g id=\"text_11\">\n      <!-- 20 -->\n      <g transform=\"translate(13.5625 269.046759)scale(0.1 -0.1)\">\n       <use xlink:href=\"#DejaVuSans-32\"/>\n       <use xlink:href=\"#DejaVuSans-30\" x=\"63.623047\"/>\n      </g>\n     </g>\n    </g>\n    <g id=\"ytick_3\">\n     <g id=\"line2d_23\">\n      <path d=\"M 33.2875 216.131265 \nL 705.5625 216.131265 \n\" clip-path=\"url(#pd12604998b)\" style=\"fill: none; stroke: #b0b0b0; stroke-width: 0.8; stroke-linecap: square\"/>\n     </g>\n     <g id=\"line2d_24\">\n      <g>\n       <use xlink:href=\"#m51cd5fcd04\" x=\"33.2875\" y=\"216.131265\" style=\"stroke: #000000; stroke-width: 0.8\"/>\n      </g>\n     </g>\n     <g id=\"text_12\">\n      <!-- 40 -->\n      <g transform=\"translate(13.5625 219.930483)scale(0.1 -0.1)\">\n       <defs>\n        <path id=\"DejaVuSans-34\" d=\"M 2419 4116 \nL 825 1625 \nL 2419 1625 \nL 2419 4116 \nz\nM 2253 4666 \nL 3047 4666 \nL 3047 1625 \nL 3713 1625 \nL 3713 1100 \nL 3047 1100 \nL 3047 0 \nL 2419 0 \nL 2419 1100 \nL 313 1100 \nL 313 1709 \nL 2253 4666 \nz\n\" transform=\"scale(0.015625)\"/>\n       </defs>\n       <use xlink:href=\"#DejaVuSans-34\"/>\n       <use xlink:href=\"#DejaVuSans-30\" x=\"63.623047\"/>\n      </g>\n     </g>\n    </g>\n    <g id=\"ytick_4\">\n     <g id=\"line2d_25\">\n      <path d=\"M 33.2875 167.014989 \nL 705.5625 167.014989 \n\" clip-path=\"url(#pd12604998b)\" style=\"fill: none; stroke: #b0b0b0; stroke-width: 0.8; stroke-linecap: square\"/>\n     </g>\n     <g id=\"line2d_26\">\n      <g>\n       <use xlink:href=\"#m51cd5fcd04\" x=\"33.2875\" y=\"167.014989\" style=\"stroke: #000000; stroke-width: 0.8\"/>\n      </g>\n     </g>\n     <g id=\"text_13\">\n      <!-- 60 -->\n      <g transform=\"translate(13.5625 170.814208)scale(0.1 -0.1)\">\n       <defs>\n        <path id=\"DejaVuSans-36\" d=\"M 2113 2584 \nQ 1688 2584 1439 2293 \nQ 1191 2003 1191 1497 \nQ 1191 994 1439 701 \nQ 1688 409 2113 409 \nQ 2538 409 2786 701 \nQ 3034 994 3034 1497 \nQ 3034 2003 2786 2293 \nQ 2538 2584 2113 2584 \nz\nM 3366 4563 \nL 3366 3988 \nQ 3128 4100 2886 4159 \nQ 2644 4219 2406 4219 \nQ 1781 4219 1451 3797 \nQ 1122 3375 1075 2522 \nQ 1259 2794 1537 2939 \nQ 1816 3084 2150 3084 \nQ 2853 3084 3261 2657 \nQ 3669 2231 3669 1497 \nQ 3669 778 3244 343 \nQ 2819 -91 2113 -91 \nQ 1303 -91 875 529 \nQ 447 1150 447 2328 \nQ 447 3434 972 4092 \nQ 1497 4750 2381 4750 \nQ 2619 4750 2861 4703 \nQ 3103 4656 3366 4563 \nz\n\" transform=\"scale(0.015625)\"/>\n       </defs>\n       <use xlink:href=\"#DejaVuSans-36\"/>\n       <use xlink:href=\"#DejaVuSans-30\" x=\"63.623047\"/>\n      </g>\n     </g>\n    </g>\n    <g id=\"ytick_5\">\n     <g id=\"line2d_27\">\n      <path d=\"M 33.2875 117.898714 \nL 705.5625 117.898714 \n\" clip-path=\"url(#pd12604998b)\" style=\"fill: none; stroke: #b0b0b0; stroke-width: 0.8; stroke-linecap: square\"/>\n     </g>\n     <g id=\"line2d_28\">\n      <g>\n       <use xlink:href=\"#m51cd5fcd04\" x=\"33.2875\" y=\"117.898714\" style=\"stroke: #000000; stroke-width: 0.8\"/>\n      </g>\n     </g>\n     <g id=\"text_14\">\n      <!-- 80 -->\n      <g transform=\"translate(13.5625 121.697932)scale(0.1 -0.1)\">\n       <defs>\n        <path id=\"DejaVuSans-38\" d=\"M 2034 2216 \nQ 1584 2216 1326 1975 \nQ 1069 1734 1069 1313 \nQ 1069 891 1326 650 \nQ 1584 409 2034 409 \nQ 2484 409 2743 651 \nQ 3003 894 3003 1313 \nQ 3003 1734 2745 1975 \nQ 2488 2216 2034 2216 \nz\nM 1403 2484 \nQ 997 2584 770 2862 \nQ 544 3141 544 3541 \nQ 544 4100 942 4425 \nQ 1341 4750 2034 4750 \nQ 2731 4750 3128 4425 \nQ 3525 4100 3525 3541 \nQ 3525 3141 3298 2862 \nQ 3072 2584 2669 2484 \nQ 3125 2378 3379 2068 \nQ 3634 1759 3634 1313 \nQ 3634 634 3220 271 \nQ 2806 -91 2034 -91 \nQ 1263 -91 848 271 \nQ 434 634 434 1313 \nQ 434 1759 690 2068 \nQ 947 2378 1403 2484 \nz\nM 1172 3481 \nQ 1172 3119 1398 2916 \nQ 1625 2713 2034 2713 \nQ 2441 2713 2670 2916 \nQ 2900 3119 2900 3481 \nQ 2900 3844 2670 4047 \nQ 2441 4250 2034 4250 \nQ 1625 4250 1398 4047 \nQ 1172 3844 1172 3481 \nz\n\" transform=\"scale(0.015625)\"/>\n       </defs>\n       <use xlink:href=\"#DejaVuSans-38\"/>\n       <use xlink:href=\"#DejaVuSans-30\" x=\"63.623047\"/>\n      </g>\n     </g>\n    </g>\n    <g id=\"ytick_6\">\n     <g id=\"line2d_29\">\n      <path d=\"M 33.2875 68.782438 \nL 705.5625 68.782438 \n\" clip-path=\"url(#pd12604998b)\" style=\"fill: none; stroke: #b0b0b0; stroke-width: 0.8; stroke-linecap: square\"/>\n     </g>\n     <g id=\"line2d_30\">\n      <g>\n       <use xlink:href=\"#m51cd5fcd04\" x=\"33.2875\" y=\"68.782438\" style=\"stroke: #000000; stroke-width: 0.8\"/>\n      </g>\n     </g>\n     <g id=\"text_15\">\n      <!-- 100 -->\n      <g transform=\"translate(7.2 72.581657)scale(0.1 -0.1)\">\n       <use xlink:href=\"#DejaVuSans-31\"/>\n       <use xlink:href=\"#DejaVuSans-30\" x=\"63.623047\"/>\n       <use xlink:href=\"#DejaVuSans-30\" x=\"127.246094\"/>\n      </g>\n     </g>\n    </g>\n    <g id=\"ytick_7\">\n     <g id=\"line2d_31\">\n      <path d=\"M 33.2875 19.666163 \nL 705.5625 19.666163 \n\" clip-path=\"url(#pd12604998b)\" style=\"fill: none; stroke: #b0b0b0; stroke-width: 0.8; stroke-linecap: square\"/>\n     </g>\n     <g id=\"line2d_32\">\n      <g>\n       <use xlink:href=\"#m51cd5fcd04\" x=\"33.2875\" y=\"19.666163\" style=\"stroke: #000000; stroke-width: 0.8\"/>\n      </g>\n     </g>\n     <g id=\"text_16\">\n      <!-- 120 -->\n      <g transform=\"translate(7.2 23.465381)scale(0.1 -0.1)\">\n       <use xlink:href=\"#DejaVuSans-31\"/>\n       <use xlink:href=\"#DejaVuSans-32\" x=\"63.623047\"/>\n       <use xlink:href=\"#DejaVuSans-30\" x=\"127.246094\"/>\n      </g>\n     </g>\n    </g>\n   </g>\n   <g id=\"line2d_33\">\n    <path d=\"M 63.845455 313.753007 \nL 66.916606 313.617196 \nL 97.628118 313.740191 \nL 100.699269 313.605731 \nL 106.841571 313.500313 \nL 109.912723 313.663988 \nL 112.983874 313.712146 \nL 128.33963 313.081108 \nL 137.553084 313.165102 \nL 140.624235 313.266562 \nL 146.766537 313.262289 \nL 165.193444 313.287596 \nL 168.264596 313.356713 \nL 171.335747 313.309876 \nL 174.406898 313.444561 \nL 195.904957 313.39589 \nL 202.047259 313.483184 \nL 217.403015 313.434176 \nL 220.474166 313.522987 \nL 223.545317 313.444097 \nL 229.68762 313.498739 \nL 235.829922 313.486245 \nL 251.185678 313.61162 \nL 294.181795 313.69857 \nL 312.608703 313.761598 \nL 675.004545 313.964246 \nL 675.004545 313.964246 \n\" clip-path=\"url(#pd12604998b)\" style=\"fill: none; stroke: #1f77b4; stroke-width: 1.5; stroke-linecap: square\"/>\n   </g>\n   <g id=\"line2d_34\">\n    <path d=\"M 63.845455 92.078287 \nL 66.916606 193.28149 \nL 69.987757 194.758378 \nL 73.058908 194.330182 \nL 79.201211 195.006406 \nL 82.272362 197.967115 \nL 85.343513 196.332456 \nL 88.414664 197.475409 \nL 91.485815 198.886626 \nL 94.556967 196.585126 \nL 97.628118 196.115374 \nL 100.699269 197.040866 \nL 103.77042 196.683038 \nL 109.912723 200.354196 \nL 112.983874 200.769113 \nL 116.055025 201.967092 \nL 119.126176 203.503102 \nL 122.197328 208.852366 \nL 125.268479 220.160719 \nL 128.33963 224.707697 \nL 131.410781 227.8461 \nL 134.481932 229.627724 \nL 137.553084 229.316031 \nL 143.695386 233.988123 \nL 146.766537 237.295875 \nL 149.837688 237.281777 \nL 152.90884 238.408853 \nL 155.979991 237.969172 \nL 159.051142 240.614583 \nL 162.122293 242.411248 \nL 165.193444 240.366896 \nL 168.264596 242.479937 \nL 171.335747 242.760354 \nL 174.406898 243.44371 \nL 177.478049 243.4201 \nL 180.549201 243.7381 \nL 183.620352 245.237928 \nL 186.691503 245.450064 \nL 189.762654 246.348821 \nL 192.833805 246.995117 \nL 195.904957 248.348905 \nL 198.976108 248.532146 \nL 202.047259 248.833724 \nL 205.11841 248.356082 \nL 208.189561 248.745397 \nL 211.260713 250.620004 \nL 214.331864 251.382167 \nL 220.474166 251.605856 \nL 223.545317 249.592555 \nL 226.616469 250.992264 \nL 229.68762 250.211126 \nL 232.758771 250.75995 \nL 235.829922 251.568724 \nL 238.901074 251.182503 \nL 241.972225 251.869014 \nL 245.043376 249.700438 \nL 248.114527 250.235197 \nL 254.25683 248.504665 \nL 257.327981 250.128641 \nL 260.399132 248.243683 \nL 263.470283 249.116338 \nL 266.541434 249.345253 \nL 269.612586 251.223573 \nL 272.683737 250.540877 \nL 275.754888 249.108749 \nL 278.826039 249.44497 \nL 281.89719 249.494479 \nL 284.968342 249.722769 \nL 288.039493 250.107842 \nL 291.110644 249.305872 \nL 294.181795 249.18414 \nL 297.252947 249.866457 \nL 303.395249 248.451869 \nL 306.4664 249.334333 \nL 309.537551 249.652073 \nL 312.608703 249.532465 \nL 315.679854 248.930283 \nL 318.751005 249.830754 \nL 321.822156 249.563704 \nL 324.893307 249.130761 \nL 331.03561 249.469685 \nL 334.106761 250.241873 \nL 337.177912 249.456658 \nL 340.249063 250.323099 \nL 343.320215 250.240155 \nL 349.462517 249.868791 \nL 352.533668 250.70167 \nL 355.60482 250.293127 \nL 358.675971 250.798023 \nL 364.818273 251.081196 \nL 367.889424 250.22624 \nL 370.960576 250.598304 \nL 374.031727 251.115516 \nL 377.102878 251.088796 \nL 380.174029 251.555152 \nL 383.24518 251.217074 \nL 386.316332 251.998681 \nL 389.387483 252.050594 \nL 392.458634 251.909965 \nL 395.529785 252.30185 \nL 398.600937 251.611111 \nL 401.672088 251.954578 \nL 407.81439 252.270015 \nL 410.885541 252.263049 \nL 413.956693 252.722067 \nL 417.027844 252.743403 \nL 420.098995 252.409172 \nL 423.170146 252.379323 \nL 426.241297 252.536406 \nL 429.312449 253.12212 \nL 432.3836 253.015013 \nL 435.454751 254.19277 \nL 438.525902 253.038609 \nL 441.597053 251.712354 \nL 444.668205 252.855123 \nL 447.739356 252.172297 \nL 453.881658 254.170082 \nL 456.95281 254.142151 \nL 460.023961 253.125768 \nL 463.095112 253.733525 \nL 466.166263 253.419444 \nL 469.237414 252.935949 \nL 472.308566 253.398842 \nL 475.379717 253.74673 \nL 478.450868 253.613474 \nL 481.522019 253.853414 \nL 484.59317 252.336852 \nL 487.664322 253.826533 \nL 490.735473 253.281416 \nL 493.806624 254.062062 \nL 496.877775 253.666482 \nL 499.948926 253.833466 \nL 506.091229 254.501262 \nL 509.16238 253.566164 \nL 512.233531 253.681982 \nL 515.304683 254.109414 \nL 518.375834 254.047247 \nL 521.446985 252.949642 \nL 524.518136 254.046268 \nL 527.589287 253.565024 \nL 530.660439 254.769118 \nL 533.73159 254.763298 \nL 536.802741 255.072303 \nL 539.873892 253.849207 \nL 542.945043 254.905922 \nL 546.016195 254.654157 \nL 552.158497 254.728637 \nL 555.229648 254.047777 \nL 558.300799 254.457103 \nL 561.371951 254.328819 \nL 564.443102 254.800582 \nL 567.514253 255.05665 \nL 570.585404 254.461591 \nL 573.656556 254.501818 \nL 576.727707 254.389225 \nL 579.798858 254.905462 \nL 582.870009 254.621825 \nL 585.94116 254.512584 \nL 589.012312 254.181729 \nL 592.083463 255.404346 \nL 595.154614 254.454489 \nL 598.225765 253.194223 \nL 601.296916 254.552059 \nL 604.368068 254.070595 \nL 607.439219 253.790568 \nL 610.51037 254.49786 \nL 613.581521 254.613128 \nL 616.652672 254.483747 \nL 622.794975 253.759282 \nL 625.866126 254.22868 \nL 628.937277 255.104757 \nL 632.008429 253.787042 \nL 635.07958 252.902654 \nL 638.150731 254.369557 \nL 641.221882 254.632029 \nL 644.293033 254.698603 \nL 647.364185 254.514464 \nL 650.435336 253.531716 \nL 656.577638 254.52054 \nL 662.719941 253.466108 \nL 665.791092 253.952956 \nL 668.862243 253.496336 \nL 671.933394 254.026685 \nL 675.004545 254.337254 \nL 675.004545 254.337254 \n\" clip-path=\"url(#pd12604998b)\" style=\"fill: none; stroke: #ff7f0e; stroke-width: 1.5; stroke-linecap: square\"/>\n   </g>\n   <g id=\"line2d_35\">\n    <path d=\"M 63.845455 279.537931 \nL 66.916606 278.546044 \nL 69.987757 280.913003 \nL 73.058908 280.131156 \nL 76.130059 281.959094 \nL 79.201211 281.437772 \nL 82.272362 282.852003 \nL 85.343513 281.517755 \nL 88.414664 282.563918 \nL 91.485815 282.304646 \nL 94.556967 280.557974 \nL 97.628118 281.084517 \nL 100.699269 282.481204 \nL 103.77042 281.370833 \nL 106.841571 283.234303 \nL 109.912723 282.979729 \nL 112.983874 283.585097 \nL 119.126176 282.788126 \nL 122.197328 285.676594 \nL 125.268479 292.633886 \nL 128.33963 294.359721 \nL 131.410781 293.078001 \nL 134.481932 292.882671 \nL 137.553084 288.675626 \nL 140.624235 288.481857 \nL 143.695386 290.846186 \nL 146.766537 290.352002 \nL 149.837688 289.693765 \nL 152.90884 289.96352 \nL 155.979991 289.714382 \nL 159.051142 288.915304 \nL 162.122293 289.018013 \nL 165.193444 287.183383 \nL 168.264596 287.613634 \nL 171.335747 287.516263 \nL 174.406898 286.051016 \nL 177.478049 284.741843 \nL 180.549201 285.520602 \nL 183.620352 285.01281 \nL 186.691503 285.775908 \nL 189.762654 285.307588 \nL 192.833805 285.258728 \nL 195.904957 286.684363 \nL 198.976108 285.338482 \nL 202.047259 285.493602 \nL 205.11841 286.628358 \nL 208.189561 283.398766 \nL 211.260713 286.619413 \nL 214.331864 286.038818 \nL 217.403015 285.308769 \nL 220.474166 286.221323 \nL 223.545317 283.144233 \nL 226.616469 284.805309 \nL 229.68762 283.838615 \nL 232.758771 283.47751 \nL 235.829922 285.137978 \nL 238.901074 284.163131 \nL 241.972225 284.461064 \nL 245.043376 282.452866 \nL 248.114527 282.86723 \nL 251.185678 280.685084 \nL 254.25683 279.559546 \nL 257.327981 281.284453 \nL 260.399132 279.213804 \nL 263.470283 282.587462 \nL 266.541434 279.356436 \nL 269.612586 281.565252 \nL 272.683737 281.858108 \nL 275.754888 280.167663 \nL 278.826039 280.178963 \nL 281.89719 280.337311 \nL 284.968342 280.649455 \nL 288.039493 280.75762 \nL 291.110644 279.577249 \nL 294.181795 279.76636 \nL 300.324098 278.514242 \nL 303.395249 277.747757 \nL 306.4664 278.094505 \nL 309.537551 279.80716 \nL 312.608703 279.230041 \nL 315.679854 278.529221 \nL 321.822156 278.595145 \nL 324.893307 277.752704 \nL 327.964459 277.273651 \nL 331.03561 278.838956 \nL 334.106761 277.359802 \nL 337.177912 278.617819 \nL 340.249063 277.92415 \nL 343.320215 278.305462 \nL 346.391366 277.559362 \nL 349.462517 277.318461 \nL 352.533668 279.031716 \nL 355.60482 277.097911 \nL 358.675971 278.187102 \nL 361.747122 277.942715 \nL 364.818273 277.435759 \nL 367.889424 278.411416 \nL 370.960576 277.461485 \nL 374.031727 278.157211 \nL 377.102878 277.390208 \nL 380.174029 277.297261 \nL 383.24518 277.880779 \nL 386.316332 278.759516 \nL 389.387483 277.369757 \nL 395.529785 278.058277 \nL 398.600937 276.947624 \nL 401.672088 276.74836 \nL 407.81439 278.384091 \nL 410.885541 280.012792 \nL 413.956693 277.637341 \nL 417.027844 278.555002 \nL 420.098995 276.25784 \nL 423.170146 278.304243 \nL 426.241297 278.601971 \nL 429.312449 277.003047 \nL 432.3836 277.189632 \nL 435.454751 277.679432 \nL 438.525902 278.763908 \nL 441.597053 276.32237 \nL 444.668205 276.908077 \nL 447.739356 277.265582 \nL 450.810507 277.04786 \nL 453.881658 277.646479 \nL 456.95281 276.610288 \nL 460.023961 277.078616 \nL 463.095112 276.193885 \nL 466.166263 275.99381 \nL 469.237414 277.483825 \nL 472.308566 276.167424 \nL 475.379717 278.041248 \nL 478.450868 275.988088 \nL 481.522019 276.264745 \nL 484.59317 275.16238 \nL 487.664322 276.363676 \nL 490.735473 275.958721 \nL 493.806624 275.091135 \nL 496.877775 276.184708 \nL 499.948926 276.877086 \nL 503.020078 278.022751 \nL 506.091229 278.229658 \nL 509.16238 276.591568 \nL 512.233531 277.169305 \nL 515.304683 276.037859 \nL 518.375834 275.199212 \nL 521.446985 275.921644 \nL 524.518136 275.677275 \nL 527.589287 275.995767 \nL 530.660439 276.097593 \nL 533.73159 278.229441 \nL 536.802741 275.845977 \nL 539.873892 276.338764 \nL 542.945043 276.973775 \nL 546.016195 276.922599 \nL 549.087346 277.988212 \nL 552.158497 278.593905 \nL 555.229648 276.556169 \nL 558.300799 275.684633 \nL 561.371951 277.983349 \nL 564.443102 275.652879 \nL 567.514253 277.561105 \nL 570.585404 276.504275 \nL 573.656556 275.117797 \nL 576.727707 276.85596 \nL 579.798858 277.827921 \nL 582.870009 276.345913 \nL 585.94116 277.815658 \nL 589.012312 277.228297 \nL 592.083463 278.622397 \nL 595.154614 277.995937 \nL 598.225765 275.273711 \nL 601.296916 276.438454 \nL 604.368068 277.321142 \nL 607.439219 274.920397 \nL 610.51037 277.280156 \nL 613.581521 276.980631 \nL 616.652672 276.532977 \nL 622.794975 275.282264 \nL 625.866126 278.148348 \nL 628.937277 277.370531 \nL 632.008429 276.15608 \nL 635.07958 275.944156 \nL 638.150731 276.894391 \nL 641.221882 275.6658 \nL 644.293033 277.159705 \nL 647.364185 277.405262 \nL 650.435336 276.229608 \nL 653.506487 276.112554 \nL 656.577638 276.617155 \nL 659.648789 274.358089 \nL 662.719941 277.131253 \nL 665.791092 274.33878 \nL 668.862243 276.914854 \nL 671.933394 274.500071 \nL 675.004545 275.169639 \nL 675.004545 275.169639 \n\" clip-path=\"url(#pd12604998b)\" style=\"fill: none; stroke: #2ca02c; stroke-width: 1.5; stroke-linecap: square\"/>\n   </g>\n   <g id=\"line2d_36\">\n    <path d=\"M 63.845455 278.920513 \nL 66.916606 287.995442 \nL 69.987757 289.754381 \nL 73.058908 290.215846 \nL 76.130059 291.217167 \nL 79.201211 291.507045 \nL 82.272362 293.048873 \nL 85.343513 293.400667 \nL 91.485815 295.111443 \nL 94.556967 294.989774 \nL 97.628118 295.364275 \nL 100.699269 295.443282 \nL 103.77042 295.245906 \nL 106.841571 295.668432 \nL 112.983874 296.99648 \nL 119.126176 297.625909 \nL 122.197328 298.319714 \nL 125.268479 298.68303 \nL 128.33963 298.798652 \nL 131.410781 298.77039 \nL 134.481932 298.154417 \nL 137.553084 298.168786 \nL 140.624235 297.623486 \nL 143.695386 298.553159 \nL 146.766537 298.869194 \nL 149.837688 299.772225 \nL 152.90884 299.869312 \nL 155.979991 299.494848 \nL 159.051142 298.68671 \nL 162.122293 300.47697 \nL 165.193444 299.693326 \nL 168.264596 300.728348 \nL 171.335747 301.078019 \nL 174.406898 301.163375 \nL 177.478049 301.122184 \nL 180.549201 301.642713 \nL 183.620352 301.748566 \nL 186.691503 301.724105 \nL 189.762654 302.300471 \nL 192.833805 302.445484 \nL 195.904957 302.704142 \nL 198.976108 302.402959 \nL 202.047259 302.745687 \nL 205.11841 302.886327 \nL 208.189561 301.932685 \nL 211.260713 303.241549 \nL 217.403015 303.775432 \nL 220.474166 303.610267 \nL 223.545317 303.201578 \nL 229.68762 303.364025 \nL 232.758771 303.362208 \nL 235.829922 303.509336 \nL 241.972225 304.244518 \nL 245.043376 303.75692 \nL 248.114527 303.867818 \nL 251.185678 303.513706 \nL 254.25683 303.353179 \nL 257.327981 303.842251 \nL 260.399132 303.098157 \nL 263.470283 303.830382 \nL 266.541434 303.48528 \nL 269.612586 304.082859 \nL 272.683737 303.775617 \nL 278.826039 303.885581 \nL 281.89719 303.748886 \nL 284.968342 303.856473 \nL 291.110644 304.588011 \nL 294.181795 303.964602 \nL 297.252947 304.280849 \nL 300.324098 303.955147 \nL 303.395249 304.189353 \nL 309.537551 304.886328 \nL 315.679854 304.986012 \nL 318.751005 305.332842 \nL 321.822156 305.223398 \nL 324.893307 305.311536 \nL 331.03561 305.2583 \nL 334.106761 305.294418 \nL 337.177912 305.558579 \nL 340.249063 305.377709 \nL 343.320215 305.727736 \nL 346.391366 305.443078 \nL 349.462517 305.439356 \nL 352.533668 305.739711 \nL 355.60482 305.818241 \nL 361.747122 305.73161 \nL 364.818273 305.878911 \nL 370.960576 305.997974 \nL 374.031727 306.160511 \nL 377.102878 305.925051 \nL 389.387483 306.302327 \nL 392.458634 306.17648 \nL 395.529785 306.269219 \nL 401.672088 306.13788 \nL 404.743239 306.442375 \nL 410.885541 306.474851 \nL 413.956693 306.530113 \nL 417.027844 306.784023 \nL 420.098995 306.447093 \nL 423.170146 306.662293 \nL 429.312449 306.540271 \nL 432.3836 306.718283 \nL 435.454751 306.665518 \nL 438.525902 306.838268 \nL 441.597053 306.636238 \nL 444.668205 306.612965 \nL 447.739356 306.832424 \nL 453.881658 306.896043 \nL 463.095112 306.9389 \nL 469.237414 306.974922 \nL 472.308566 306.701918 \nL 475.379717 306.851169 \nL 478.450868 306.861819 \nL 481.522019 307.094228 \nL 484.59317 306.972748 \nL 487.664322 307.013537 \nL 490.735473 306.914189 \nL 496.877775 307.079548 \nL 503.020078 306.987375 \nL 515.304683 307.124443 \nL 524.518136 307.010963 \nL 539.873892 307.302454 \nL 549.087346 307.338993 \nL 561.371951 307.330468 \nL 564.443102 307.268107 \nL 570.585404 307.407354 \nL 582.870009 307.256322 \nL 585.94116 307.516972 \nL 589.012312 307.396267 \nL 592.083463 307.560888 \nL 607.439219 307.433355 \nL 610.51037 307.627621 \nL 613.581521 307.540554 \nL 616.652672 307.642844 \nL 619.723824 307.455347 \nL 628.937277 307.572508 \nL 638.150731 307.37331 \nL 644.293033 307.56131 \nL 650.435336 307.383896 \nL 653.506487 307.422901 \nL 656.577638 307.643531 \nL 659.648789 307.480146 \nL 675.004545 307.572942 \nL 675.004545 307.572942 \n\" clip-path=\"url(#pd12604998b)\" style=\"fill: none; stroke: #d62728; stroke-width: 1.5; stroke-linecap: square\"/>\n   </g>\n   <g id=\"line2d_37\">\n    <path d=\"M 63.845455 21.809091 \nL 66.916606 131.09534 \nL 69.987757 136.698125 \nL 73.058908 135.949548 \nL 76.130059 139.141345 \nL 79.201211 139.223586 \nL 82.272362 145.140355 \nL 85.343513 142.523241 \nL 88.414664 145.54062 \nL 91.485815 147.575078 \nL 94.556967 143.405238 \nL 97.628118 143.836529 \nL 100.699269 146.237715 \nL 103.77042 144.572142 \nL 106.841571 148.64967 \nL 109.912723 150.958869 \nL 112.983874 152.623055 \nL 116.055025 153.753921 \nL 119.126176 155.189501 \nL 122.197328 164.121038 \nL 125.268479 182.750001 \nL 128.33963 189.138435 \nL 131.410781 190.966856 \nL 134.481932 191.937177 \nL 137.553084 187.432808 \nL 140.624235 188.966403 \nL 143.695386 194.659834 \nL 146.766537 197.789437 \nL 149.837688 198.020133 \nL 152.90884 199.514051 \nL 155.979991 198.450767 \nL 159.051142 199.488963 \nL 162.122293 203.178597 \nL 165.193444 198.51597 \nL 168.264596 202.094284 \nL 171.335747 202.627001 \nL 174.406898 201.930466 \nL 177.478049 200.556493 \nL 180.549201 202.17378 \nL 183.620352 203.271669 \nL 189.762654 205.229246 \nL 192.833805 205.971695 \nL 195.904957 209.009777 \nL 198.976108 207.545954 \nL 205.11841 209.143133 \nL 208.189561 205.349213 \nL 211.260713 211.753332 \nL 214.331864 212.233723 \nL 217.403015 211.877138 \nL 220.474166 212.709812 \nL 223.545317 207.210733 \nL 226.616469 210.393347 \nL 229.68762 208.686132 \nL 232.758771 208.872034 \nL 235.829922 211.488404 \nL 238.901074 210.537299 \nL 241.972225 211.846962 \nL 245.043376 207.182591 \nL 248.114527 208.242612 \nL 251.185678 204.792308 \nL 254.25683 202.689756 \nL 257.327981 206.527711 \nL 260.399132 201.82801 \nL 263.470283 206.806548 \nL 266.541434 203.459336 \nL 269.612586 208.14405 \nL 272.683737 207.446968 \nL 275.754888 204.378705 \nL 278.826039 204.78188 \nL 281.89719 204.853042 \nL 284.968342 205.501063 \nL 288.039493 206.372015 \nL 291.110644 204.743498 \nL 294.181795 204.187469 \nL 297.252947 204.594921 \nL 300.324098 202.923941 \nL 303.395249 201.661345 \nL 306.4664 203.246235 \nL 309.537551 205.617928 \nL 312.608703 204.922392 \nL 315.679854 203.717881 \nL 318.751005 204.982165 \nL 321.822156 204.654613 \nL 324.893307 203.467366 \nL 327.964459 203.087849 \nL 331.03561 204.839307 \nL 334.106761 204.168458 \nL 337.177912 204.905423 \nL 340.249063 204.897323 \nL 343.320215 205.54572 \nL 346.391366 204.318472 \nL 349.462517 203.898974 \nL 352.533668 206.745463 \nL 355.60482 204.481645 \nL 358.675971 206.037102 \nL 364.818273 205.668232 \nL 367.889424 205.797306 \nL 370.960576 205.330129 \nL 374.031727 206.705604 \nL 377.102878 205.676421 \nL 383.24518 206.570759 \nL 386.316332 208.326321 \nL 389.387483 206.995044 \nL 392.458634 207.085319 \nL 395.529785 207.901713 \nL 398.600937 206.020815 \nL 401.672088 206.113183 \nL 404.743239 207.399105 \nL 407.81439 208.349582 \nL 410.885541 210.023058 \nL 413.956693 208.161888 \nL 417.027844 209.354795 \nL 420.098995 206.386471 \nL 423.170146 208.618225 \nL 426.241297 208.958362 \nL 429.312449 207.937805 \nL 432.3836 208.195294 \nL 435.454751 209.810087 \nL 438.525902 209.913151 \nL 441.597053 205.943329 \nL 444.668205 207.648532 \nL 447.739356 207.542668 \nL 450.810507 208.445097 \nL 453.881658 209.984969 \nL 456.95281 208.964343 \nL 460.023961 208.393882 \nL 463.095112 208.138676 \nL 466.166263 207.596757 \nL 469.237414 208.667062 \nL 472.308566 207.54055 \nL 475.379717 209.911513 \nL 478.450868 207.735747 \nL 481.522019 208.484754 \nL 484.59317 205.744346 \nL 487.664322 208.476112 \nL 490.735473 207.426692 \nL 493.806624 207.435336 \nL 499.948926 209.005584 \nL 503.020078 210.447547 \nL 506.091229 211.043818 \nL 509.16238 208.60701 \nL 512.233531 209.224576 \nL 515.304683 208.544082 \nL 518.375834 207.573567 \nL 521.446985 207.231932 \nL 524.518136 208.006872 \nL 527.589287 207.918819 \nL 530.660439 209.329963 \nL 533.73159 211.546942 \nL 536.802741 209.545808 \nL 539.873892 208.762792 \nL 542.945043 210.430954 \nL 546.016195 210.0957 \nL 549.087346 211.329232 \nL 552.158497 211.942076 \nL 555.229648 209.153755 \nL 558.300799 208.750267 \nL 561.371951 210.915002 \nL 564.443102 208.993934 \nL 567.514253 211.270512 \nL 570.585404 209.645587 \nL 573.656556 208.273045 \nL 579.798858 211.288268 \nL 582.870009 209.496426 \nL 585.94116 211.11758 \nL 589.012312 210.078659 \nL 592.083463 212.859997 \nL 595.154614 211.239475 \nL 598.225765 207.312937 \nL 601.296916 209.790397 \nL 604.368068 210.129108 \nL 607.439219 207.416687 \nL 610.51037 210.678004 \nL 613.581521 210.40668 \nL 616.652672 209.931935 \nL 619.723824 208.712443 \nL 622.794975 207.817954 \nL 625.866126 211.177516 \nL 628.937277 211.320162 \nL 632.008429 208.697472 \nL 635.07958 207.586782 \nL 638.150731 209.909624 \nL 641.221882 209.035718 \nL 644.293033 210.691985 \nL 647.364185 210.634293 \nL 650.435336 208.417586 \nL 653.506487 208.84073 \nL 656.577638 210.053592 \nL 659.648789 207.087769 \nL 662.719941 209.355156 \nL 665.791092 206.96598 \nL 668.862243 209.153958 \nL 671.933394 207.214138 \nL 675.004545 208.352201 \nL 675.004545 208.352201 \n\" clip-path=\"url(#pd12604998b)\" style=\"fill: none; stroke: #9467bd; stroke-width: 1.5; stroke-linecap: square\"/>\n   </g>\n   <g id=\"patch_3\">\n    <path d=\"M 33.2875 328.6 \nL 33.2875 7.2 \n\" style=\"fill: none; stroke: #000000; stroke-width: 0.8; stroke-linejoin: miter; stroke-linecap: square\"/>\n   </g>\n   <g id=\"patch_4\">\n    <path d=\"M 705.5625 328.6 \nL 705.5625 7.2 \n\" style=\"fill: none; stroke: #000000; stroke-width: 0.8; stroke-linejoin: miter; stroke-linecap: square\"/>\n   </g>\n   <g id=\"patch_5\">\n    <path d=\"M 33.2875 328.6 \nL 705.5625 328.6 \n\" style=\"fill: none; stroke: #000000; stroke-width: 0.8; stroke-linejoin: miter; stroke-linecap: square\"/>\n   </g>\n   <g id=\"patch_6\">\n    <path d=\"M 33.2875 7.2 \nL 705.5625 7.2 \n\" style=\"fill: none; stroke: #000000; stroke-width: 0.8; stroke-linejoin: miter; stroke-linecap: square\"/>\n   </g>\n   <g id=\"legend_1\">\n    <g id=\"patch_7\">\n     <path d=\"M 575.454687 88.590625 \nL 698.5625 88.590625 \nQ 700.5625 88.590625 700.5625 86.590625 \nL 700.5625 14.2 \nQ 700.5625 12.2 698.5625 12.2 \nL 575.454687 12.2 \nQ 573.454687 12.2 573.454687 14.2 \nL 573.454687 86.590625 \nQ 573.454687 88.590625 575.454687 88.590625 \nz\n\" style=\"fill: #ffffff; opacity: 0.8; stroke: #cccccc; stroke-linejoin: miter\"/>\n    </g>\n    <g id=\"line2d_38\">\n     <path d=\"M 577.454687 20.298437 \nL 587.454687 20.298437 \nL 597.454687 20.298437 \n\" style=\"fill: none; stroke: #1f77b4; stroke-width: 1.5; stroke-linecap: square\"/>\n    </g>\n    <g id=\"text_17\">\n     <!-- discriminator loss -->\n     <g transform=\"translate(605.454687 23.798437)scale(0.1 -0.1)\">\n      <defs>\n       <path id=\"DejaVuSans-64\" d=\"M 2906 2969 \nL 2906 4863 \nL 3481 4863 \nL 3481 0 \nL 2906 0 \nL 2906 525 \nQ 2725 213 2448 61 \nQ 2172 -91 1784 -91 \nQ 1150 -91 751 415 \nQ 353 922 353 1747 \nQ 353 2572 751 3078 \nQ 1150 3584 1784 3584 \nQ 2172 3584 2448 3432 \nQ 2725 3281 2906 2969 \nz\nM 947 1747 \nQ 947 1113 1208 752 \nQ 1469 391 1925 391 \nQ 2381 391 2643 752 \nQ 2906 1113 2906 1747 \nQ 2906 2381 2643 2742 \nQ 2381 3103 1925 3103 \nQ 1469 3103 1208 2742 \nQ 947 2381 947 1747 \nz\n\" transform=\"scale(0.015625)\"/>\n       <path id=\"DejaVuSans-69\" d=\"M 603 3500 \nL 1178 3500 \nL 1178 0 \nL 603 0 \nL 603 3500 \nz\nM 603 4863 \nL 1178 4863 \nL 1178 4134 \nL 603 4134 \nL 603 4863 \nz\n\" transform=\"scale(0.015625)\"/>\n       <path id=\"DejaVuSans-73\" d=\"M 2834 3397 \nL 2834 2853 \nQ 2591 2978 2328 3040 \nQ 2066 3103 1784 3103 \nQ 1356 3103 1142 2972 \nQ 928 2841 928 2578 \nQ 928 2378 1081 2264 \nQ 1234 2150 1697 2047 \nL 1894 2003 \nQ 2506 1872 2764 1633 \nQ 3022 1394 3022 966 \nQ 3022 478 2636 193 \nQ 2250 -91 1575 -91 \nQ 1294 -91 989 -36 \nQ 684 19 347 128 \nL 347 722 \nQ 666 556 975 473 \nQ 1284 391 1588 391 \nQ 1994 391 2212 530 \nQ 2431 669 2431 922 \nQ 2431 1156 2273 1281 \nQ 2116 1406 1581 1522 \nL 1381 1569 \nQ 847 1681 609 1914 \nQ 372 2147 372 2553 \nQ 372 3047 722 3315 \nQ 1072 3584 1716 3584 \nQ 2034 3584 2315 3537 \nQ 2597 3491 2834 3397 \nz\n\" transform=\"scale(0.015625)\"/>\n       <path id=\"DejaVuSans-63\" d=\"M 3122 3366 \nL 3122 2828 \nQ 2878 2963 2633 3030 \nQ 2388 3097 2138 3097 \nQ 1578 3097 1268 2742 \nQ 959 2388 959 1747 \nQ 959 1106 1268 751 \nQ 1578 397 2138 397 \nQ 2388 397 2633 464 \nQ 2878 531 3122 666 \nL 3122 134 \nQ 2881 22 2623 -34 \nQ 2366 -91 2075 -91 \nQ 1284 -91 818 406 \nQ 353 903 353 1747 \nQ 353 2603 823 3093 \nQ 1294 3584 2113 3584 \nQ 2378 3584 2631 3529 \nQ 2884 3475 3122 3366 \nz\n\" transform=\"scale(0.015625)\"/>\n       <path id=\"DejaVuSans-72\" d=\"M 2631 2963 \nQ 2534 3019 2420 3045 \nQ 2306 3072 2169 3072 \nQ 1681 3072 1420 2755 \nQ 1159 2438 1159 1844 \nL 1159 0 \nL 581 0 \nL 581 3500 \nL 1159 3500 \nL 1159 2956 \nQ 1341 3275 1631 3429 \nQ 1922 3584 2338 3584 \nQ 2397 3584 2469 3576 \nQ 2541 3569 2628 3553 \nL 2631 2963 \nz\n\" transform=\"scale(0.015625)\"/>\n       <path id=\"DejaVuSans-6d\" d=\"M 3328 2828 \nQ 3544 3216 3844 3400 \nQ 4144 3584 4550 3584 \nQ 5097 3584 5394 3201 \nQ 5691 2819 5691 2113 \nL 5691 0 \nL 5113 0 \nL 5113 2094 \nQ 5113 2597 4934 2840 \nQ 4756 3084 4391 3084 \nQ 3944 3084 3684 2787 \nQ 3425 2491 3425 1978 \nL 3425 0 \nL 2847 0 \nL 2847 2094 \nQ 2847 2600 2669 2842 \nQ 2491 3084 2119 3084 \nQ 1678 3084 1418 2786 \nQ 1159 2488 1159 1978 \nL 1159 0 \nL 581 0 \nL 581 3500 \nL 1159 3500 \nL 1159 2956 \nQ 1356 3278 1631 3431 \nQ 1906 3584 2284 3584 \nQ 2666 3584 2933 3390 \nQ 3200 3197 3328 2828 \nz\n\" transform=\"scale(0.015625)\"/>\n       <path id=\"DejaVuSans-6e\" d=\"M 3513 2113 \nL 3513 0 \nL 2938 0 \nL 2938 2094 \nQ 2938 2591 2744 2837 \nQ 2550 3084 2163 3084 \nQ 1697 3084 1428 2787 \nQ 1159 2491 1159 1978 \nL 1159 0 \nL 581 0 \nL 581 3500 \nL 1159 3500 \nL 1159 2956 \nQ 1366 3272 1645 3428 \nQ 1925 3584 2291 3584 \nQ 2894 3584 3203 3211 \nQ 3513 2838 3513 2113 \nz\n\" transform=\"scale(0.015625)\"/>\n       <path id=\"DejaVuSans-61\" d=\"M 2194 1759 \nQ 1497 1759 1228 1600 \nQ 959 1441 959 1056 \nQ 959 750 1161 570 \nQ 1363 391 1709 391 \nQ 2188 391 2477 730 \nQ 2766 1069 2766 1631 \nL 2766 1759 \nL 2194 1759 \nz\nM 3341 1997 \nL 3341 0 \nL 2766 0 \nL 2766 531 \nQ 2569 213 2275 61 \nQ 1981 -91 1556 -91 \nQ 1019 -91 701 211 \nQ 384 513 384 1019 \nQ 384 1609 779 1909 \nQ 1175 2209 1959 2209 \nL 2766 2209 \nL 2766 2266 \nQ 2766 2663 2505 2880 \nQ 2244 3097 1772 3097 \nQ 1472 3097 1187 3025 \nQ 903 2953 641 2809 \nL 641 3341 \nQ 956 3463 1253 3523 \nQ 1550 3584 1831 3584 \nQ 2591 3584 2966 3190 \nQ 3341 2797 3341 1997 \nz\n\" transform=\"scale(0.015625)\"/>\n       <path id=\"DejaVuSans-74\" d=\"M 1172 4494 \nL 1172 3500 \nL 2356 3500 \nL 2356 3053 \nL 1172 3053 \nL 1172 1153 \nQ 1172 725 1289 603 \nQ 1406 481 1766 481 \nL 2356 481 \nL 2356 0 \nL 1766 0 \nQ 1100 0 847 248 \nQ 594 497 594 1153 \nL 594 3053 \nL 172 3053 \nL 172 3500 \nL 594 3500 \nL 594 4494 \nL 1172 4494 \nz\n\" transform=\"scale(0.015625)\"/>\n       <path id=\"DejaVuSans-6f\" d=\"M 1959 3097 \nQ 1497 3097 1228 2736 \nQ 959 2375 959 1747 \nQ 959 1119 1226 758 \nQ 1494 397 1959 397 \nQ 2419 397 2687 759 \nQ 2956 1122 2956 1747 \nQ 2956 2369 2687 2733 \nQ 2419 3097 1959 3097 \nz\nM 1959 3584 \nQ 2709 3584 3137 3096 \nQ 3566 2609 3566 1747 \nQ 3566 888 3137 398 \nQ 2709 -91 1959 -91 \nQ 1206 -91 779 398 \nQ 353 888 353 1747 \nQ 353 2609 779 3096 \nQ 1206 3584 1959 3584 \nz\n\" transform=\"scale(0.015625)\"/>\n       <path id=\"DejaVuSans-20\" transform=\"scale(0.015625)\"/>\n       <path id=\"DejaVuSans-6c\" d=\"M 603 4863 \nL 1178 4863 \nL 1178 0 \nL 603 0 \nL 603 4863 \nz\n\" transform=\"scale(0.015625)\"/>\n      </defs>\n      <use xlink:href=\"#DejaVuSans-64\"/>\n      <use xlink:href=\"#DejaVuSans-69\" x=\"63.476562\"/>\n      <use xlink:href=\"#DejaVuSans-73\" x=\"91.259766\"/>\n      <use xlink:href=\"#DejaVuSans-63\" x=\"143.359375\"/>\n      <use xlink:href=\"#DejaVuSans-72\" x=\"198.339844\"/>\n      <use xlink:href=\"#DejaVuSans-69\" x=\"239.453125\"/>\n      <use xlink:href=\"#DejaVuSans-6d\" x=\"267.236328\"/>\n      <use xlink:href=\"#DejaVuSans-69\" x=\"364.648438\"/>\n      <use xlink:href=\"#DejaVuSans-6e\" x=\"392.431641\"/>\n      <use xlink:href=\"#DejaVuSans-61\" x=\"455.810547\"/>\n      <use xlink:href=\"#DejaVuSans-74\" x=\"517.089844\"/>\n      <use xlink:href=\"#DejaVuSans-6f\" x=\"556.298828\"/>\n      <use xlink:href=\"#DejaVuSans-72\" x=\"617.480469\"/>\n      <use xlink:href=\"#DejaVuSans-20\" x=\"658.59375\"/>\n      <use xlink:href=\"#DejaVuSans-6c\" x=\"690.380859\"/>\n      <use xlink:href=\"#DejaVuSans-6f\" x=\"718.164062\"/>\n      <use xlink:href=\"#DejaVuSans-73\" x=\"779.345703\"/>\n      <use xlink:href=\"#DejaVuSans-73\" x=\"831.445312\"/>\n     </g>\n    </g>\n    <g id=\"line2d_39\">\n     <path d=\"M 577.454687 34.976562 \nL 587.454687 34.976562 \nL 597.454687 34.976562 \n\" style=\"fill: none; stroke: #ff7f0e; stroke-width: 1.5; stroke-linecap: square\"/>\n    </g>\n    <g id=\"text_18\">\n     <!-- image space loss -->\n     <g transform=\"translate(605.454687 38.476562)scale(0.1 -0.1)\">\n      <defs>\n       <path id=\"DejaVuSans-67\" d=\"M 2906 1791 \nQ 2906 2416 2648 2759 \nQ 2391 3103 1925 3103 \nQ 1463 3103 1205 2759 \nQ 947 2416 947 1791 \nQ 947 1169 1205 825 \nQ 1463 481 1925 481 \nQ 2391 481 2648 825 \nQ 2906 1169 2906 1791 \nz\nM 3481 434 \nQ 3481 -459 3084 -895 \nQ 2688 -1331 1869 -1331 \nQ 1566 -1331 1297 -1286 \nQ 1028 -1241 775 -1147 \nL 775 -588 \nQ 1028 -725 1275 -790 \nQ 1522 -856 1778 -856 \nQ 2344 -856 2625 -561 \nQ 2906 -266 2906 331 \nL 2906 616 \nQ 2728 306 2450 153 \nQ 2172 0 1784 0 \nQ 1141 0 747 490 \nQ 353 981 353 1791 \nQ 353 2603 747 3093 \nQ 1141 3584 1784 3584 \nQ 2172 3584 2450 3431 \nQ 2728 3278 2906 2969 \nL 2906 3500 \nL 3481 3500 \nL 3481 434 \nz\n\" transform=\"scale(0.015625)\"/>\n       <path id=\"DejaVuSans-65\" d=\"M 3597 1894 \nL 3597 1613 \nL 953 1613 \nQ 991 1019 1311 708 \nQ 1631 397 2203 397 \nQ 2534 397 2845 478 \nQ 3156 559 3463 722 \nL 3463 178 \nQ 3153 47 2828 -22 \nQ 2503 -91 2169 -91 \nQ 1331 -91 842 396 \nQ 353 884 353 1716 \nQ 353 2575 817 3079 \nQ 1281 3584 2069 3584 \nQ 2775 3584 3186 3129 \nQ 3597 2675 3597 1894 \nz\nM 3022 2063 \nQ 3016 2534 2758 2815 \nQ 2500 3097 2075 3097 \nQ 1594 3097 1305 2825 \nQ 1016 2553 972 2059 \nL 3022 2063 \nz\n\" transform=\"scale(0.015625)\"/>\n       <path id=\"DejaVuSans-70\" d=\"M 1159 525 \nL 1159 -1331 \nL 581 -1331 \nL 581 3500 \nL 1159 3500 \nL 1159 2969 \nQ 1341 3281 1617 3432 \nQ 1894 3584 2278 3584 \nQ 2916 3584 3314 3078 \nQ 3713 2572 3713 1747 \nQ 3713 922 3314 415 \nQ 2916 -91 2278 -91 \nQ 1894 -91 1617 61 \nQ 1341 213 1159 525 \nz\nM 3116 1747 \nQ 3116 2381 2855 2742 \nQ 2594 3103 2138 3103 \nQ 1681 3103 1420 2742 \nQ 1159 2381 1159 1747 \nQ 1159 1113 1420 752 \nQ 1681 391 2138 391 \nQ 2594 391 2855 752 \nQ 3116 1113 3116 1747 \nz\n\" transform=\"scale(0.015625)\"/>\n      </defs>\n      <use xlink:href=\"#DejaVuSans-69\"/>\n      <use xlink:href=\"#DejaVuSans-6d\" x=\"27.783203\"/>\n      <use xlink:href=\"#DejaVuSans-61\" x=\"125.195312\"/>\n      <use xlink:href=\"#DejaVuSans-67\" x=\"186.474609\"/>\n      <use xlink:href=\"#DejaVuSans-65\" x=\"249.951172\"/>\n      <use xlink:href=\"#DejaVuSans-20\" x=\"311.474609\"/>\n      <use xlink:href=\"#DejaVuSans-73\" x=\"343.261719\"/>\n      <use xlink:href=\"#DejaVuSans-70\" x=\"395.361328\"/>\n      <use xlink:href=\"#DejaVuSans-61\" x=\"458.837891\"/>\n      <use xlink:href=\"#DejaVuSans-63\" x=\"520.117188\"/>\n      <use xlink:href=\"#DejaVuSans-65\" x=\"575.097656\"/>\n      <use xlink:href=\"#DejaVuSans-20\" x=\"636.621094\"/>\n      <use xlink:href=\"#DejaVuSans-6c\" x=\"668.408203\"/>\n      <use xlink:href=\"#DejaVuSans-6f\" x=\"696.191406\"/>\n      <use xlink:href=\"#DejaVuSans-73\" x=\"757.373047\"/>\n      <use xlink:href=\"#DejaVuSans-73\" x=\"809.472656\"/>\n     </g>\n    </g>\n    <g id=\"line2d_40\">\n     <path d=\"M 577.454687 49.654687 \nL 587.454687 49.654687 \nL 597.454687 49.654687 \n\" style=\"fill: none; stroke: #2ca02c; stroke-width: 1.5; stroke-linecap: square\"/>\n    </g>\n    <g id=\"text_19\">\n     <!-- adversarial loss -->\n     <g transform=\"translate(605.454687 53.154687)scale(0.1 -0.1)\">\n      <defs>\n       <path id=\"DejaVuSans-76\" d=\"M 191 3500 \nL 800 3500 \nL 1894 563 \nL 2988 3500 \nL 3597 3500 \nL 2284 0 \nL 1503 0 \nL 191 3500 \nz\n\" transform=\"scale(0.015625)\"/>\n      </defs>\n      <use xlink:href=\"#DejaVuSans-61\"/>\n      <use xlink:href=\"#DejaVuSans-64\" x=\"61.279297\"/>\n      <use xlink:href=\"#DejaVuSans-76\" x=\"124.755859\"/>\n      <use xlink:href=\"#DejaVuSans-65\" x=\"183.935547\"/>\n      <use xlink:href=\"#DejaVuSans-72\" x=\"245.458984\"/>\n      <use xlink:href=\"#DejaVuSans-73\" x=\"286.572266\"/>\n      <use xlink:href=\"#DejaVuSans-61\" x=\"338.671875\"/>\n      <use xlink:href=\"#DejaVuSans-72\" x=\"399.951172\"/>\n      <use xlink:href=\"#DejaVuSans-69\" x=\"441.064453\"/>\n      <use xlink:href=\"#DejaVuSans-61\" x=\"468.847656\"/>\n      <use xlink:href=\"#DejaVuSans-6c\" x=\"530.126953\"/>\n      <use xlink:href=\"#DejaVuSans-20\" x=\"557.910156\"/>\n      <use xlink:href=\"#DejaVuSans-6c\" x=\"589.697266\"/>\n      <use xlink:href=\"#DejaVuSans-6f\" x=\"617.480469\"/>\n      <use xlink:href=\"#DejaVuSans-73\" x=\"678.662109\"/>\n      <use xlink:href=\"#DejaVuSans-73\" x=\"730.761719\"/>\n     </g>\n    </g>\n    <g id=\"line2d_41\">\n     <path d=\"M 577.454687 64.332812 \nL 587.454687 64.332812 \nL 597.454687 64.332812 \n\" style=\"fill: none; stroke: #d62728; stroke-width: 1.5; stroke-linecap: square\"/>\n    </g>\n    <g id=\"text_20\">\n     <!-- feature space loss -->\n     <g transform=\"translate(605.454687 67.832812)scale(0.1 -0.1)\">\n      <defs>\n       <path id=\"DejaVuSans-66\" d=\"M 2375 4863 \nL 2375 4384 \nL 1825 4384 \nQ 1516 4384 1395 4259 \nQ 1275 4134 1275 3809 \nL 1275 3500 \nL 2222 3500 \nL 2222 3053 \nL 1275 3053 \nL 1275 0 \nL 697 0 \nL 697 3053 \nL 147 3053 \nL 147 3500 \nL 697 3500 \nL 697 3744 \nQ 697 4328 969 4595 \nQ 1241 4863 1831 4863 \nL 2375 4863 \nz\n\" transform=\"scale(0.015625)\"/>\n       <path id=\"DejaVuSans-75\" d=\"M 544 1381 \nL 544 3500 \nL 1119 3500 \nL 1119 1403 \nQ 1119 906 1312 657 \nQ 1506 409 1894 409 \nQ 2359 409 2629 706 \nQ 2900 1003 2900 1516 \nL 2900 3500 \nL 3475 3500 \nL 3475 0 \nL 2900 0 \nL 2900 538 \nQ 2691 219 2414 64 \nQ 2138 -91 1772 -91 \nQ 1169 -91 856 284 \nQ 544 659 544 1381 \nz\nM 1991 3584 \nL 1991 3584 \nz\n\" transform=\"scale(0.015625)\"/>\n      </defs>\n      <use xlink:href=\"#DejaVuSans-66\"/>\n      <use xlink:href=\"#DejaVuSans-65\" x=\"35.205078\"/>\n      <use xlink:href=\"#DejaVuSans-61\" x=\"96.728516\"/>\n      <use xlink:href=\"#DejaVuSans-74\" x=\"158.007812\"/>\n      <use xlink:href=\"#DejaVuSans-75\" x=\"197.216797\"/>\n      <use xlink:href=\"#DejaVuSans-72\" x=\"260.595703\"/>\n      <use xlink:href=\"#DejaVuSans-65\" x=\"299.458984\"/>\n      <use xlink:href=\"#DejaVuSans-20\" x=\"360.982422\"/>\n      <use xlink:href=\"#DejaVuSans-73\" x=\"392.769531\"/>\n      <use xlink:href=\"#DejaVuSans-70\" x=\"444.869141\"/>\n      <use xlink:href=\"#DejaVuSans-61\" x=\"508.345703\"/>\n      <use xlink:href=\"#DejaVuSans-63\" x=\"569.625\"/>\n      <use xlink:href=\"#DejaVuSans-65\" x=\"624.605469\"/>\n      <use xlink:href=\"#DejaVuSans-20\" x=\"686.128906\"/>\n      <use xlink:href=\"#DejaVuSans-6c\" x=\"717.916016\"/>\n      <use xlink:href=\"#DejaVuSans-6f\" x=\"745.699219\"/>\n      <use xlink:href=\"#DejaVuSans-73\" x=\"806.880859\"/>\n      <use xlink:href=\"#DejaVuSans-73\" x=\"858.980469\"/>\n     </g>\n    </g>\n    <g id=\"line2d_42\">\n     <path d=\"M 577.454687 79.010938 \nL 587.454687 79.010938 \nL 597.454687 79.010938 \n\" style=\"fill: none; stroke: #9467bd; stroke-width: 1.5; stroke-linecap: square\"/>\n    </g>\n    <g id=\"text_21\">\n     <!-- generator loss -->\n     <g transform=\"translate(605.454687 82.510938)scale(0.1 -0.1)\">\n      <use xlink:href=\"#DejaVuSans-67\"/>\n      <use xlink:href=\"#DejaVuSans-65\" x=\"63.476562\"/>\n      <use xlink:href=\"#DejaVuSans-6e\" x=\"125\"/>\n      <use xlink:href=\"#DejaVuSans-65\" x=\"188.378906\"/>\n      <use xlink:href=\"#DejaVuSans-72\" x=\"249.902344\"/>\n      <use xlink:href=\"#DejaVuSans-61\" x=\"291.015625\"/>\n      <use xlink:href=\"#DejaVuSans-74\" x=\"352.294922\"/>\n      <use xlink:href=\"#DejaVuSans-6f\" x=\"391.503906\"/>\n      <use xlink:href=\"#DejaVuSans-72\" x=\"452.685547\"/>\n      <use xlink:href=\"#DejaVuSans-20\" x=\"493.798828\"/>\n      <use xlink:href=\"#DejaVuSans-6c\" x=\"525.585938\"/>\n      <use xlink:href=\"#DejaVuSans-6f\" x=\"553.369141\"/>\n      <use xlink:href=\"#DejaVuSans-73\" x=\"614.550781\"/>\n      <use xlink:href=\"#DejaVuSans-73\" x=\"666.650391\"/>\n     </g>\n    </g>\n   </g>\n  </g>\n </g>\n <defs>\n  <clipPath id=\"pd12604998b\">\n   <rect x=\"33.2875\" y=\"7.2\" width=\"672.275\" height=\"321.4\"/>\n  </clipPath>\n </defs>\n</svg>\n",
      "text/plain": [
       "<Figure size 720x360 with 1 Axes>"
      ]
     },
     "metadata": {},
     "output_type": "display_data"
    },
    {
     "name": "stdout",
     "output_type": "stream",
     "text": [
      "Training complete in 522m 43s\n"
     ]
    }
   ],
   "source": [
    "net_Cs = [model]\n",
    "net_Es = [enc_test]\n",
    "lambdas_list = [np.array([5,1/1000, 1/100])]\n",
    "names = ['test_train_enc_pool_all_2']\n",
    "GAM_test_train(net_G2, net_D, net_Cs, net_Es, norm_img, norm_latent_none, dataloader, lambdas_list, num_epochs, names, 1000, False)"
   ]
  }
 ],
 "metadata": {
  "interpreter": {
   "hash": "84db782854c2fc853c435716cefb0cc3c0d0a59289dd46f7b31f405555fefee0"
  },
  "kernelspec": {
   "display_name": "Python 3.8.12 64-bit ('base': conda)",
   "language": "python",
   "name": "python3"
  },
  "language_info": {
   "codemirror_mode": {
    "name": "ipython",
    "version": 3
   },
   "file_extension": ".py",
   "mimetype": "text/x-python",
   "name": "python",
   "nbconvert_exporter": "python",
   "pygments_lexer": "ipython3",
   "version": "3.8.12"
  },
  "orig_nbformat": 4
 },
 "nbformat": 4,
 "nbformat_minor": 2
}
