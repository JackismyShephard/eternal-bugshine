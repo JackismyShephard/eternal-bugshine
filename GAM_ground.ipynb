{
 "cells": [
  {
   "cell_type": "markdown",
   "metadata": {},
   "source": [
    "# Get model to use as encoder and comparator"
   ]
  },
  {
   "cell_type": "code",
   "execution_count": 1,
   "metadata": {},
   "outputs": [],
   "source": [
    "\n",
    "from torchvision.datasets import ImageFolder\n",
    "from src.utils.config import RESNET34_FULL\n",
    "from src.utils.config import BEETLE_DATASET, DEFAULT_TEST_PATH\n",
    "from src.models import download_model, load_model_weights_and_metrics\n",
    "import torchvision\n",
    "import torch.nn as nn\n",
    "import torch\n",
    "from torch.utils.data import DataLoader\n",
    "from src.GAM import GAM_fit\n",
    "import numpy as np\n",
    "import copy"
   ]
  },
  {
   "cell_type": "code",
   "execution_count": 2,
   "metadata": {},
   "outputs": [],
   "source": [
    "dataset_config = BEETLE_DATASET\n",
    "model_config = RESNET34_FULL"
   ]
  },
  {
   "cell_type": "code",
   "execution_count": 3,
   "metadata": {},
   "outputs": [],
   "source": [
    "model = download_model(model_config, dataset_config)\n",
    "_ = load_model_weights_and_metrics(model, model_config)\n",
    "model = model.eval().to('cuda')"
   ]
  },
  {
   "cell_type": "markdown",
   "metadata": {},
   "source": [
    "# Data for Generator"
   ]
  },
  {
   "cell_type": "code",
   "execution_count": 5,
   "metadata": {},
   "outputs": [],
   "source": [
    "transformer = torchvision.transforms.Compose([\n",
    "    torchvision.transforms.Resize((224, 448)),\n",
    "    torchvision.transforms.ToTensor(),\n",
    "    torchvision.transforms.Normalize(0.5, 0.5)])\n"
   ]
  },
  {
   "cell_type": "code",
   "execution_count": 6,
   "metadata": {},
   "outputs": [],
   "source": [
    "gamset_sub = ImageFolder('./data/beetles/images_subset/', transform = transformer)\n",
    "dataloader_sub = DataLoader(gamset_sub, batch_size = 16, num_workers = 12)"
   ]
  },
  {
   "cell_type": "code",
   "execution_count": 8,
   "metadata": {},
   "outputs": [],
   "source": [
    "gamset = ImageFolder(dataset_config['image_folder_path'], transform = transformer)\n",
    "dataloader = DataLoader(gamset, batch_size = 16, num_workers = 12, shuffle=True)"
   ]
  },
  {
   "cell_type": "markdown",
   "metadata": {},
   "source": [
    "# Discriminator and generator"
   ]
  },
  {
   "cell_type": "code",
   "execution_count": 9,
   "metadata": {},
   "outputs": [],
   "source": [
    "def norm_img(img, mean, std):\n",
    "    res = (img + 1) / 2\n",
    "    return (res - mean) / std"
   ]
  },
  {
   "cell_type": "code",
   "execution_count": 28,
   "metadata": {},
   "outputs": [],
   "source": [
    "def norm_latent(y):\n",
    "    ret = y - torch.min(y)\n",
    "    return ret / torch.max(ret)\n",
    "\n",
    "def norm_latent_none(y):\n",
    "    return y"
   ]
  },
  {
   "cell_type": "code",
   "execution_count": 29,
   "metadata": {},
   "outputs": [],
   "source": [
    "class D_block(nn.Module):\n",
    "    def __init__(self, out_channels, in_channels=3, kernel_size=4, strides=2,\n",
    "                padding=1, alpha=0.2, **kwargs):\n",
    "        super(D_block, self).__init__(**kwargs)\n",
    "        self.conv2d = nn.Conv2d(in_channels, out_channels, kernel_size,\n",
    "                                strides, padding, bias=False)\n",
    "        self.batch_norm = nn.BatchNorm2d(out_channels)\n",
    "        self.activation = nn.LeakyReLU(alpha, inplace=True)\n",
    "\n",
    "    def forward(self, X):\n",
    "        return self.activation(self.batch_norm(self.conv2d(X)))"
   ]
  },
  {
   "cell_type": "code",
   "execution_count": 30,
   "metadata": {},
   "outputs": [],
   "source": [
    "n_D = 64\n",
    "net_D = nn.Sequential(\n",
    "    D_block(n_D),  # Output: (64, 32, 32)\n",
    "    D_block(in_channels=n_D, out_channels=n_D*2),  # Output: (64 * 2, 16, 16)\n",
    "    D_block(in_channels=n_D*2, out_channels=n_D*4),  # Output: (64 * 4, 8, 8)\n",
    "    D_block(in_channels=n_D*4, out_channels=n_D*8),  # Output: (64 * 8, 4, 4)\n",
    "    D_block(in_channels=n_D*8, out_channels=n_D*16),  # Output: (64 * 8, 4, 4)\n",
    "    nn.Conv2d(in_channels=n_D*16, out_channels=1,\n",
    "              kernel_size=(7,14), bias=False))  # Output: (1, 1, 1)"
   ]
  },
  {
   "cell_type": "code",
   "execution_count": 31,
   "metadata": {},
   "outputs": [],
   "source": [
    "class G_block(nn.Module):\n",
    "    def __init__(self, out_channels, in_channels=3, kernel_size=(4,4), strides=(2,2),\n",
    "                 padding=(1,1), **kwargs):\n",
    "        super(G_block, self).__init__(**kwargs)\n",
    "        self.conv2d_trans = nn.ConvTranspose2d(in_channels, out_channels,\n",
    "                                kernel_size, strides, padding, bias=False)\n",
    "        self.batch_norm = nn.BatchNorm2d(out_channels)\n",
    "        self.activation = nn.ReLU()\n",
    "\n",
    "    def forward(self, X):\n",
    "        return self.activation(self.batch_norm(self.conv2d_trans(X)))"
   ]
  },
  {
   "cell_type": "code",
   "execution_count": 32,
   "metadata": {},
   "outputs": [],
   "source": [
    "n_G = 64\n",
    "net_G = nn.Sequential(\n",
    "    G_block(in_channels=197, out_channels=n_G*16, kernel_size=(7,14),\n",
    "            strides=1, padding=0),                  # Output: (64 * 16, 7, 14)\n",
    "    G_block(in_channels=n_G*16, out_channels=n_G*8), # Output: (64 * 8, 14, 28)\n",
    "    G_block(in_channels=n_G*8, out_channels=n_G*4), # Output: (64 * 4, 28, 56)\n",
    "    G_block(in_channels=n_G*4, out_channels=n_G*2), # Output: (64 * 2, 56, 112)\n",
    "    G_block(in_channels=n_G*2, out_channels=n_G),   # Output: (64, 112, 224)\n",
    "    nn.ConvTranspose2d(in_channels=n_G, out_channels=3,\n",
    "                       kernel_size=4, stride=2, padding=1, bias=False),\n",
    "    nn.Tanh())  # Output: (3, 224, 448)\n",
    "\n",
    "\n",
    "for w in net_D.parameters():\n",
    "        nn.init.normal_(w, 0, 0.02)\n",
    "for w in net_G.parameters():\n",
    "        nn.init.normal_(w, 0, 0.02)"
   ]
  },
  {
   "cell_type": "markdown",
   "metadata": {},
   "source": [
    "# Testing"
   ]
  },
  {
   "cell_type": "code",
   "execution_count": 33,
   "metadata": {},
   "outputs": [],
   "source": [
    "num_epochs = 400"
   ]
  },
  {
   "cell_type": "code",
   "execution_count": 34,
   "metadata": {},
   "outputs": [],
   "source": [
    "def GAM_test_train(net_G, net_D, net_Cs, net_Es, norm_img, norm_latent, dataloader, lambdas_list, num_epochs, names):\n",
    "    # net_G = net\n",
    "    # net_D = net\n",
    "    # net_Cs = [net]\n",
    "    # net_Es = [net, None]\n",
    "    # norm_img = func\n",
    "    # norm_latent = func\n",
    "    # dataloader = dataloader\n",
    "    # lambdas_list = [lambdas]\n",
    "    # num_epochs = int\n",
    "    for i in range(len(lambdas_list)):\n",
    "        for w in net_D.parameters():\n",
    "            nn.init.normal_(w, 0, 0.02)\n",
    "        for w in net_G.parameters():\n",
    "            nn.init.normal_(w, 0, 0.02)\n",
    "        gen, stats = GAM_fit(net_G, net_D, net_Cs[i], norm_img, norm_latent, dataloader, lambdas = lambdas_list[i], num_epochs=num_epochs, enc = net_Es[i], lrs = [0.0005, 0.9, 0.999])\n",
    "        torch.save(gen.state_dict(), DEFAULT_TEST_PATH + names[i] + '_gen.pt')\n",
    "        np.save(DEFAULT_TEST_PATH + names[i] + '_stats.npy', np.array(stats))"
   ]
  },
  {
   "cell_type": "markdown",
   "metadata": {},
   "source": [
    "## latent code vs one-hot"
   ]
  },
  {
   "cell_type": "code",
   "execution_count": 35,
   "metadata": {},
   "outputs": [],
   "source": [
    "net_Cs = [model]*2\n",
    "net_Es = [model, None]\n",
    "lambdas_list = [np.array([2, 1/20000, 1/100])]*2\n",
    "names = ['latent_code', 'one_hot_code']\n",
    "\n",
    "#GAM_test_train(net_G, net_D, net_Cs, net_Es, norm_img, norm_latent_none, dataloader_sub, lambdas_list, num_epochs, names)\n"
   ]
  },
  {
   "cell_type": "markdown",
   "metadata": {},
   "source": [
    "## Lambda values"
   ]
  },
  {
   "cell_type": "code",
   "execution_count": 36,
   "metadata": {},
   "outputs": [],
   "source": [
    "net_Cs = [model]\n",
    "net_Es = [model]\n",
    "lambdas_list = [np.array([5,1/200, 1/100])]\n",
    "names = ['test']\n",
    "#GAM_test_train(net_G, net_D, net_Cs, net_Es, norm_img, norm_latent_none, dataloader_sub, lambdas_list, num_epochs, names)"
   ]
  },
  {
   "cell_type": "code",
   "execution_count": 37,
   "metadata": {},
   "outputs": [],
   "source": [
    "lambdas_equal = np.array([2,1/20000, 1/100])\n",
    "lambdas_feat = np.array([2,1/20000, 3/100])\n",
    "lambdas_adv = np.array([6,1/20000, 1/100])\n",
    "lambdas_img = np.array([2,3/20000, 1/100])"
   ]
  },
  {
   "cell_type": "code",
   "execution_count": 38,
   "metadata": {},
   "outputs": [],
   "source": [
    "net_Cs = [model]\n",
    "net_Es = [model]\n",
    "lambdas_list = [lambdas_img]\n",
    "names = ['lambdas_img']\n",
    "#GAM_test_train(net_G, net_D, net_Cs, net_Es, norm_img, norm_latent_none, dataloader_sub, lambdas_list, num_epochs, names)"
   ]
  },
  {
   "cell_type": "code",
   "execution_count": 39,
   "metadata": {},
   "outputs": [],
   "source": [
    "net_Cs = [model]\n",
    "net_Es = [model]\n",
    "lambdas_list = [lambdas_equal]\n",
    "names = ['lambdas_equal']\n",
    "#GAM_test_train(net_G, net_D, net_Cs, net_Es, norm_img, norm_latent_none, dataloader_sub, lambdas_list, num_epochs, names)"
   ]
  },
  {
   "cell_type": "code",
   "execution_count": 40,
   "metadata": {},
   "outputs": [],
   "source": [
    "net_Cs = [model]\n",
    "net_Es = [model]\n",
    "lambdas_list = [lambdas_feat]\n",
    "names = ['lambdas_feat']\n",
    "#GAM_test_train(net_G, net_D, net_Cs, net_Es, norm_img, norm_latent_none, dataloader_sub, lambdas_list, num_epochs, names)"
   ]
  },
  {
   "cell_type": "code",
   "execution_count": 41,
   "metadata": {},
   "outputs": [],
   "source": [
    "net_Cs = [model]\n",
    "net_Es = [model]\n",
    "lambdas_list = [lambdas_adv]\n",
    "names = ['lambdas_adv']\n",
    "#GAM_test_train(net_G, net_D, net_Cs, net_Es, norm_img, norm_latent_none, dataloader_sub, lambdas_list, num_epochs, names)"
   ]
  },
  {
   "cell_type": "markdown",
   "metadata": {},
   "source": [
    "## Test comparitor structure"
   ]
  },
  {
   "cell_type": "code",
   "execution_count": 42,
   "metadata": {},
   "outputs": [],
   "source": [
    "model1 = copy.deepcopy(model)\n",
    "model2 = copy.deepcopy(model)"
   ]
  },
  {
   "cell_type": "code",
   "execution_count": 43,
   "metadata": {},
   "outputs": [],
   "source": [
    "# truncate the model\n",
    "import types\n",
    "def _new_forward_impl(self, x: torch.Tensor) -> torch.Tensor:\n",
    "    # See note [TorchScript super()]\n",
    "    x = self.conv1(x)\n",
    "    x = self.bn1(x)\n",
    "    x = self.relu(x)\n",
    "    x = self.maxpool(x)\n",
    "\n",
    "    x = self.layer1(x)\n",
    "    x = self.layer2(x)\n",
    "    x = self.layer3(x)\n",
    "    x = self.layer4(x)\n",
    "\n",
    "    x = self.avgpool(x)\n",
    "    return x\n",
    "model1._forward_impl = types.MethodType(_new_forward_impl, model1)"
   ]
  },
  {
   "cell_type": "code",
   "execution_count": 44,
   "metadata": {},
   "outputs": [],
   "source": [
    "# truncate the model\n",
    "import types\n",
    "def _new_forward_impl(self, x: torch.Tensor) -> torch.Tensor:\n",
    "    # See note [TorchScript super()]\n",
    "    x = self.conv1(x)\n",
    "    x = self.bn1(x)\n",
    "    x = self.relu(x)\n",
    "    x = self.maxpool(x)\n",
    "\n",
    "    x = self.layer1(x)\n",
    "    x = self.layer2(x)\n",
    "    x = self.layer3(x)\n",
    "    return x\n",
    "model2._forward_impl = types.MethodType(_new_forward_impl, model2)\n"
   ]
  },
  {
   "cell_type": "code",
   "execution_count": 45,
   "metadata": {},
   "outputs": [],
   "source": [
    "net_Cs = [model1, model2]\n",
    "net_Es = [model]*2\n",
    "lambdas_list = [np.array([2, 1/20000, 1/100])]*2\n",
    "names = ['comp_maxpool', 'comp_layer3']\n",
    "\n",
    "#GAM_test_train(net_G, net_D, net_Cs, net_Es, norm_img, norm_latent_none, dataloader_sub, lambdas_list, num_epochs, names)"
   ]
  },
  {
   "cell_type": "markdown",
   "metadata": {},
   "source": [
    "# Apply the damn thing!!!!!!!!!"
   ]
  },
  {
   "cell_type": "code",
   "execution_count": 46,
   "metadata": {},
   "outputs": [],
   "source": [
    "#gen = GAM_fit(net_G, net_D, model, norm_img, norm_latent, dataloader_sub, num_epochs=100)"
   ]
  },
  {
   "cell_type": "code",
   "execution_count": 47,
   "metadata": {},
   "outputs": [],
   "source": [
    "#torch.save(gen.state_dict(), 'Gen_02.pt' )"
   ]
  }
 ],
 "metadata": {
  "interpreter": {
   "hash": "84db782854c2fc853c435716cefb0cc3c0d0a59289dd46f7b31f405555fefee0"
  },
  "kernelspec": {
   "display_name": "Python 3.8.12 64-bit ('base': conda)",
   "language": "python",
   "name": "python3"
  },
  "language_info": {
   "codemirror_mode": {
    "name": "ipython",
    "version": 3
   },
   "file_extension": ".py",
   "mimetype": "text/x-python",
   "name": "python",
   "nbconvert_exporter": "python",
   "pygments_lexer": "ipython3",
   "version": "3.8.12"
  },
  "orig_nbformat": 4
 },
 "nbformat": 4,
 "nbformat_minor": 2
}
