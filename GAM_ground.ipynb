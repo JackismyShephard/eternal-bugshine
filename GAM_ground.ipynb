{
 "cells": [
  {
   "cell_type": "markdown",
   "metadata": {},
   "source": [
    "# Get model to use as encoder and comparator"
   ]
  },
  {
   "cell_type": "code",
   "execution_count": null,
   "metadata": {},
   "outputs": [],
   "source": [
    "\n",
    "from torchvision.datasets import ImageFolder\n",
    "from src.utils.config import RESNET34_FULL, RESNET18_FULL, Config, GAMfig\n",
    "from src.utils.config import BEETLE_DATASET, DEFAULT_TEST_PATH\n",
    "from src.models import download_model, load_model_weights_and_metrics\n",
    "import torchvision\n",
    "import torch.nn as nn\n",
    "import torch\n",
    "from torch.utils.data import DataLoader\n",
    "from src.GAM import GAM_fit, GAM_fit_save\n",
    "import numpy as np\n",
    "import copy\n",
    "from src.utils.dataset import dataset_to_dataloaders, dataset_to_dataloaders_2\n",
    "from src.utils.transforms import *"
   ]
  },
  {
   "cell_type": "code",
   "execution_count": null,
   "metadata": {},
   "outputs": [],
   "source": [
    "batch_size = 16"
   ]
  },
  {
   "cell_type": "code",
   "execution_count": null,
   "metadata": {},
   "outputs": [],
   "source": [
    "config = Config()"
   ]
  },
  {
   "cell_type": "code",
   "execution_count": null,
   "metadata": {},
   "outputs": [],
   "source": [
    "dataset_config = BEETLE_DATASET\n",
    "model_config = RESNET34_FULL"
   ]
  },
  {
   "cell_type": "code",
   "execution_count": null,
   "metadata": {},
   "outputs": [],
   "source": [
    "GAM_DATASET = BEETLE_DATASET\n",
    "#GAM_DATASET['image_folder_path'] = './data/beetles/images_subset'\n",
    "GAM_DATASET['data_augmentations'] = [ \n",
    "        Resize((224, 448)),\n",
    "        ToTensor(),\n",
    "        Normalize(0.5, 0.5)\n",
    "    ]\n",
    "GAM_DATASET['batch_size'] = batch_size\n",
    "GAM_DATASET['training_data_ratio'] = 0.8\n",
    "GAM_DATASET['validation_data_ratio'] = 0.5"
   ]
  },
  {
   "cell_type": "code",
   "execution_count": null,
   "metadata": {},
   "outputs": [],
   "source": [
    "model = download_model(model_config, dataset_config)\n",
    "_ = load_model_weights_and_metrics(model, model_config)\n",
    "model = model.eval()"
   ]
  },
  {
   "cell_type": "markdown",
   "metadata": {},
   "source": [
    "# Data for Generator"
   ]
  },
  {
   "cell_type": "code",
   "execution_count": null,
   "metadata": {},
   "outputs": [],
   "source": [
    "transformer = torchvision.transforms.Compose([\n",
    "    torchvision.transforms.Resize((224, 448)),\n",
    "    torchvision.transforms.ToTensor(),\n",
    "    torchvision.transforms.Normalize(0.5, 0.5)])\n"
   ]
  },
  {
   "cell_type": "code",
   "execution_count": null,
   "metadata": {},
   "outputs": [],
   "source": [
    "data_loaders, dataset_sizes = dataset_to_dataloaders_2(GAM_DATASET)"
   ]
  },
  {
   "cell_type": "code",
   "execution_count": null,
   "metadata": {},
   "outputs": [],
   "source": [
    "gamset_sub = ImageFolder('./data/beetles/images_subset/', transform = transformer)\n",
    "dataloader_sub = DataLoader(gamset_sub, batch_size = 8, num_workers = 12, shuffle=True)"
   ]
  },
  {
   "cell_type": "code",
   "execution_count": null,
   "metadata": {},
   "outputs": [],
   "source": [
    "gamset = ImageFolder(dataset_config['image_folder_path'], transform = transformer)\n",
    "dataloader = DataLoader(gamset, batch_size = 16, num_workers = 12, shuffle=True)"
   ]
  },
  {
   "cell_type": "markdown",
   "metadata": {},
   "source": [
    "# Discriminator and generator"
   ]
  },
  {
   "cell_type": "code",
   "execution_count": null,
   "metadata": {},
   "outputs": [],
   "source": [
    "#Remember to set this to the correct number of input channels\n",
    "input_channels = 1000\n",
    "\n",
    "number_epochs = 20"
   ]
  },
  {
   "cell_type": "code",
   "execution_count": null,
   "metadata": {},
   "outputs": [],
   "source": [
    "class D_block(nn.Module):\n",
    "    def __init__(self, out_channels, in_channels=3, kernel_size=4, strides=2,\n",
    "                padding=1, alpha=0.2, **kwargs):\n",
    "        super(D_block, self).__init__(**kwargs)\n",
    "        self.conv2d = nn.Conv2d(in_channels, out_channels, kernel_size,\n",
    "                                strides, padding, bias=False)\n",
    "        self.batch_norm = nn.BatchNorm2d(out_channels)\n",
    "        self.activation = nn.LeakyReLU(alpha, inplace=True)\n",
    "\n",
    "    def forward(self, X):\n",
    "        return self.activation(self.batch_norm(self.conv2d(X)))"
   ]
  },
  {
   "cell_type": "code",
   "execution_count": null,
   "metadata": {},
   "outputs": [],
   "source": [
    "n_D = 64\n",
    "net_D = nn.Sequential(\n",
    "    D_block(n_D),  # Output: (64, 32, 32)\n",
    "    D_block(in_channels=n_D, out_channels=n_D*2),  # Output: (64 * 2, 16, 16)\n",
    "    D_block(in_channels=n_D*2, out_channels=n_D*4),  # Output: (64 * 4, 8, 8)\n",
    "    D_block(in_channels=n_D*4, out_channels=n_D*8),  # Output: (64 * 8, 4, 4)\n",
    "    D_block(in_channels=n_D*8, out_channels=n_D*16),  # Output: (64 * 8, 4, 4)\n",
    "    nn.Conv2d(in_channels=n_D*16, out_channels=1,\n",
    "              kernel_size=(7,14), bias=False))  # Output: (1, 1, 1)"
   ]
  },
  {
   "cell_type": "code",
   "execution_count": null,
   "metadata": {},
   "outputs": [],
   "source": [
    "class G_block(nn.Module):\n",
    "    def __init__(self, out_channels, in_channels=3, kernel_size=(4,4), strides=(2,2),\n",
    "                 padding=(1,1), **kwargs):\n",
    "        super(G_block, self).__init__(**kwargs)\n",
    "        self.conv2d_trans = nn.ConvTranspose2d(in_channels, out_channels,\n",
    "                                kernel_size, strides, padding, bias=False)\n",
    "        self.batch_norm = nn.BatchNorm2d(out_channels)\n",
    "        self.activation = nn.ReLU()\n",
    "\n",
    "    def forward(self, X):\n",
    "        return self.activation(self.batch_norm(self.conv2d_trans(X)))"
   ]
  },
  {
   "cell_type": "code",
   "execution_count": null,
   "metadata": {},
   "outputs": [],
   "source": [
    "n_G = 64\n",
    "net_G = nn.Sequential(\n",
    "    G_block(in_channels=input_channels, out_channels=n_G*16, kernel_size=(7,14),\n",
    "            strides=1, padding=0),                  # Output: (64 * 16, 7, 14)\n",
    "    G_block(in_channels=n_G*16, out_channels=n_G*8), # Output: (64 * 8, 14, 28)\n",
    "    G_block(in_channels=n_G*8, out_channels=n_G*4), # Output: (64 * 4, 28, 56)\n",
    "    G_block(in_channels=n_G*4, out_channels=n_G*2), # Output: (64 * 2, 56, 112)\n",
    "    G_block(in_channels=n_G*2, out_channels=n_G),   # Output: (64, 112, 224)\n",
    "    nn.ConvTranspose2d(in_channels=n_G, out_channels=3,\n",
    "                       kernel_size=4, stride=2, padding=1, bias=False),\n",
    "    nn.Tanh())  # Output: (3, 224, 448)"
   ]
  },
  {
   "cell_type": "code",
   "execution_count": null,
   "metadata": {},
   "outputs": [],
   "source": [
    "for w in net_D.parameters():\n",
    "    nn.init.normal_(w, 0, 0.02)\n",
    "for w in net_G.parameters():\n",
    "    nn.init.normal_(w, 0, 0.02)"
   ]
  },
  {
   "cell_type": "code",
   "execution_count": null,
   "metadata": {},
   "outputs": [],
   "source": [
    "net_G = net_G.to('cuda')\n",
    "net_D = net_D.to('cuda')"
   ]
  },
  {
   "cell_type": "code",
   "execution_count": null,
   "metadata": {},
   "outputs": [],
   "source": [
    "enc = copy.deepcopy(model).to('cuda')"
   ]
  },
  {
   "cell_type": "code",
   "execution_count": null,
   "metadata": {},
   "outputs": [],
   "source": [
    "import types"
   ]
  },
  {
   "cell_type": "code",
   "execution_count": null,
   "metadata": {},
   "outputs": [],
   "source": [
    "# truncate the model at avgpool\n",
    "def _new_forward_impl(self, x: torch.Tensor, not_test: bool = True) -> torch.Tensor:\n",
    "    # See note [TorchScript super()]\n",
    "    x = self.conv1(x)\n",
    "    x = self.bn1(x)\n",
    "    x = self.relu(x)\n",
    "    x = self.maxpool(x)\n",
    "\n",
    "    x = self.layer1(x)\n",
    "    x = self.layer2(x)\n",
    "    x = self.layer3(x)\n",
    "    x = self.layer4(x)\n",
    "    x = self.avgpool(x)\n",
    "    x = self.fc(x.flatten(1,-1))\n",
    "    return x\n",
    "model._forward_impl = types.MethodType(_new_forward_impl, model)"
   ]
  },
  {
   "cell_type": "markdown",
   "metadata": {},
   "source": [
    "## Lambda values"
   ]
  },
  {
   "cell_type": "code",
   "execution_count": null,
   "metadata": {},
   "outputs": [],
   "source": [
    "# lambda equal test\n",
    "for w in net_D.parameters():\n",
    "    nn.init.normal_(w, 0, 0.02)\n",
    "for w in net_G.parameters():\n",
    "    nn.init.normal_(w, 0, 0.02)\n",
    "\n",
    "gamfig = GAMfig\n",
    "gamfig['name'] = 'static_lambda_equal'\n",
    "gamfig['num_epochs'] = number_epochs\n",
    "gamfig['generator'] = net_G\n",
    "gamfig['discriminator'] = net_D\n",
    "gamfig['comparator'] = model\n",
    "gamfig['static'] = True\n",
    "gamfig['encoder'] = enc\n",
    "gamfig['latent_dim'] = input_channels\n",
    "gamfig['lambdas'] = [12,1/4000, 1/300]\n",
    "gamfig['datasizes'] = dataset_sizes\n",
    "gamfig['dataloaders'] = data_loaders\n",
    "gamfig['latent_aug_name'] = None\n",
    "gamfig['comp_layer'] = 'fc'\n",
    "#GAM_fit_save(gamfig)"
   ]
  },
  {
   "cell_type": "code",
   "execution_count": null,
   "metadata": {},
   "outputs": [],
   "source": [
    "# lambda img test\n",
    "for w in net_D.parameters():\n",
    "    nn.init.normal_(w, 0, 0.02)\n",
    "for w in net_G.parameters():\n",
    "    nn.init.normal_(w, 0, 0.02)\n",
    "\n",
    "gamfig = GAMfig\n",
    "gamfig['name'] = 'static_lambda_img'\n",
    "gamfig['num_epochs'] = number_epochs\n",
    "gamfig['generator'] = net_G\n",
    "gamfig['discriminator'] = net_D\n",
    "gamfig['comparator'] = model\n",
    "gamfig['static'] = True\n",
    "gamfig['encoder'] = enc\n",
    "gamfig['latent_dim'] = input_channels\n",
    "gamfig['lambdas'] = [12,3/4000, 1/300]\n",
    "gamfig['datasizes'] = dataset_sizes\n",
    "gamfig['dataloaders'] = data_loaders\n",
    "gamfig['latent_aug_name'] = None\n",
    "gamfig['comp_layer'] = 'fc'\n",
    "#GAM_fit_save(gamfig)"
   ]
  },
  {
   "cell_type": "code",
   "execution_count": null,
   "metadata": {},
   "outputs": [],
   "source": [
    "# lambda feat test\n",
    "for w in net_D.parameters():\n",
    "    nn.init.normal_(w, 0, 0.02)\n",
    "for w in net_G.parameters():\n",
    "    nn.init.normal_(w, 0, 0.02)\n",
    "\n",
    "gamfig = GAMfig\n",
    "gamfig['name'] = 'static_lambda_feat'\n",
    "gamfig['num_epochs'] = number_epochs\n",
    "gamfig['generator'] = net_G\n",
    "gamfig['discriminator'] = net_D\n",
    "gamfig['comparator'] = model\n",
    "gamfig['static'] = True\n",
    "gamfig['encoder'] = enc\n",
    "gamfig['latent_dim'] = input_channels\n",
    "gamfig['lambdas'] = [12,1/4000, 1/100]\n",
    "gamfig['datasizes'] = dataset_sizes\n",
    "gamfig['dataloaders'] = data_loaders\n",
    "gamfig['latent_aug_name'] = None\n",
    "gamfig['comp_layer'] = 'fc'\n",
    "#GAM_fit_save(gamfig)"
   ]
  },
  {
   "cell_type": "code",
   "execution_count": null,
   "metadata": {},
   "outputs": [],
   "source": [
    "# lambda adv test\n",
    "for w in net_D.parameters():\n",
    "    nn.init.normal_(w, 0, 0.02)\n",
    "for w in net_G.parameters():\n",
    "    nn.init.normal_(w, 0, 0.02)\n",
    "\n",
    "gamfig = GAMfig\n",
    "gamfig['name'] = 'static_lambda_adv'\n",
    "gamfig['num_epochs'] = number_epochs\n",
    "gamfig['generator'] = net_G\n",
    "gamfig['discriminator'] = net_D\n",
    "gamfig['comparator'] = model\n",
    "gamfig['static'] = True\n",
    "gamfig['encoder'] = enc\n",
    "gamfig['latent_dim'] = input_channels\n",
    "gamfig['lambdas'] = [36,1/4000, 1/300]\n",
    "gamfig['datasizes'] = dataset_sizes\n",
    "gamfig['dataloaders'] = data_loaders\n",
    "gamfig['latent_aug_name'] = None\n",
    "gamfig['comp_layer'] = 'fc'\n",
    "#GAM_fit_save(gamfig)"
   ]
  },
  {
   "cell_type": "markdown",
   "metadata": {},
   "source": [
    "## latent code vs one-hot"
   ]
  },
  {
   "cell_type": "code",
   "execution_count": null,
   "metadata": {},
   "outputs": [],
   "source": [
    "# latent one hot test\n",
    "for w in net_D.parameters():\n",
    "    nn.init.normal_(w, 0, 0.02)\n",
    "for w in net_G.parameters():\n",
    "    nn.init.normal_(w, 0, 0.02)\n",
    "\n",
    "gamfig = GAMfig\n",
    "gamfig['name'] = 'static_one_hot'\n",
    "gamfig['num_epochs'] = number_epochs\n",
    "gamfig['generator'] = net_G\n",
    "gamfig['discriminator'] = net_D\n",
    "gamfig['comparator'] = model\n",
    "gamfig['static'] = True\n",
    "gamfig['encoder'] = enc\n",
    "gamfig['latent_dim'] = input_channels\n",
    "gamfig['lambdas'] = [15,1/1000, 1/300]\n",
    "gamfig['datasizes'] = dataset_sizes\n",
    "gamfig['dataloaders'] = data_loaders\n",
    "gamfig['latent_aug_name'] = 'soft_35'\n",
    "gamfig['comp_layer'] = 'fc'\n",
    "#GAM_fit_save(gamfig)"
   ]
  },
  {
   "cell_type": "code",
   "execution_count": null,
   "metadata": {},
   "outputs": [],
   "source": [
    "# latent base test\n",
    "for w in net_D.parameters():\n",
    "    nn.init.normal_(w, 0, 0.02)\n",
    "for w in net_G.parameters():\n",
    "    nn.init.normal_(w, 0, 0.02)\n",
    "\n",
    "gamfig = GAMfig\n",
    "gamfig['name'] = 'static_latent'\n",
    "gamfig['num_epochs'] = number_epochs\n",
    "gamfig['generator'] = net_G\n",
    "gamfig['discriminator'] = net_D\n",
    "gamfig['comparator'] = model\n",
    "gamfig['static'] = True\n",
    "gamfig['encoder'] = enc\n",
    "gamfig['latent_dim'] = input_channels\n",
    "gamfig['lambdas'] = [15,1/1000, 1/300]\n",
    "gamfig['datasizes'] = dataset_sizes\n",
    "gamfig['dataloaders'] = data_loaders\n",
    "gamfig['latent_aug_name'] = None\n",
    "gamfig['comp_layer'] = 'fc'\n",
    "#GAM_fit_save(gamfig)"
   ]
  },
  {
   "cell_type": "markdown",
   "metadata": {},
   "source": [
    "## Test comparitor structure"
   ]
  },
  {
   "cell_type": "code",
   "execution_count": null,
   "metadata": {},
   "outputs": [],
   "source": [
    "# truncate the model at avgpool\n",
    "def _new_forward_impl(self, x: torch.Tensor, not_test: bool = True) -> torch.Tensor:\n",
    "    # See note [TorchScript super()]\n",
    "    x = self.conv1(x)\n",
    "    x = self.bn1(x)\n",
    "    x = self.relu(x)\n",
    "    x = self.maxpool(x)\n",
    "\n",
    "    x = self.layer1(x)\n",
    "    x = self.layer2(x)\n",
    "    x = self.layer3(x)\n",
    "    x = self.layer4(x)\n",
    "    x = self.avgpool(x)\n",
    "    if not_test:\n",
    "        return x\n",
    "    x = self.fc(x.flatten(1,-1))\n",
    "    return x"
   ]
  },
  {
   "cell_type": "code",
   "execution_count": null,
   "metadata": {},
   "outputs": [],
   "source": [
    "# comp layer 3 test\n",
    "for w in net_D.parameters():\n",
    "    nn.init.normal_(w, 0, 0.02)\n",
    "for w in net_G.parameters():\n",
    "    nn.init.normal_(w, 0, 0.02)\n",
    "\n",
    "gamfig = GAMfig\n",
    "gamfig['name'] = 'static_comp_maxpool'\n",
    "gamfig['num_epochs'] = number_epochs\n",
    "gamfig['generator'] = net_G\n",
    "gamfig['discriminator'] = net_D\n",
    "gamfig['comparator'] = model\n",
    "gamfig['static'] = True\n",
    "gamfig['encoder'] = enc\n",
    "gamfig['latent_dim'] = input_channels\n",
    "gamfig['lambdas'] = [15,1/1000, 1/100]\n",
    "gamfig['datasizes'] = dataset_sizes\n",
    "gamfig['dataloaders'] = data_loaders\n",
    "gamfig['latent_aug_name'] = None\n",
    "gamfig['comp_layer'] = 'maxpool'\n",
    "#model._forward_impl = types.MethodType(_new_forward_impl, model)\n",
    "#GAM_fit_save(gamfig)"
   ]
  },
  {
   "cell_type": "code",
   "execution_count": null,
   "metadata": {},
   "outputs": [],
   "source": [
    "# truncate the model at layer 3\n",
    "def _new_forward_impl(self, x: torch.Tensor, not_test: bool = True) -> torch.Tensor:\n",
    "    # See note [TorchScript super()]\n",
    "    x = self.conv1(x)\n",
    "    x = self.bn1(x)\n",
    "    x = self.relu(x)\n",
    "    x = self.maxpool(x)\n",
    "\n",
    "    x = self.layer1(x)\n",
    "    x = self.layer2(x)\n",
    "    x = self.layer3(x)\n",
    "    if not_test:\n",
    "        return x\n",
    "    x = self.layer4(x)\n",
    "    x = self.avgpool(x)\n",
    "    x = self.fc(x.flatten(1,-1))\n",
    "    return x"
   ]
  },
  {
   "cell_type": "code",
   "execution_count": null,
   "metadata": {},
   "outputs": [],
   "source": [
    "# comp layer 3 test\n",
    "for w in net_D.parameters():\n",
    "    nn.init.normal_(w, 0, 0.02)\n",
    "for w in net_G.parameters():\n",
    "    nn.init.normal_(w, 0, 0.02)\n",
    "\n",
    "gamfig = GAMfig\n",
    "gamfig['name'] = 'static_comp_layer3'\n",
    "gamfig['num_epochs'] = number_epochs\n",
    "gamfig['generator'] = net_G\n",
    "gamfig['discriminator'] = net_D\n",
    "gamfig['comparator'] = model\n",
    "gamfig['static'] = True\n",
    "gamfig['encoder'] = enc\n",
    "gamfig['latent_dim'] = input_channels\n",
    "gamfig['lambdas'] = [15,1/1000, 1/2000]\n",
    "gamfig['datasizes'] = dataset_sizes\n",
    "gamfig['dataloaders'] = data_loaders\n",
    "gamfig['latent_aug_name'] = None\n",
    "gamfig['comp_layer'] = 'layer3'\n",
    "#model._forward_impl = types.MethodType(_new_forward_impl, model)\n",
    "#GAM_fit_save(gamfig)"
   ]
  },
  {
   "cell_type": "markdown",
   "metadata": {},
   "source": [
    "# Trained encoder"
   ]
  },
  {
   "cell_type": "code",
   "execution_count": null,
   "metadata": {},
   "outputs": [],
   "source": [
    "import torchvision.models as models"
   ]
  },
  {
   "cell_type": "code",
   "execution_count": null,
   "metadata": {},
   "outputs": [],
   "source": [
    "enc_test = models.resnet18(pretrained=False).to('cuda')"
   ]
  },
  {
   "cell_type": "code",
   "execution_count": null,
   "metadata": {},
   "outputs": [],
   "source": [
    "# truncate the model at layer 3\n",
    "def _new_forward_impl(self, x: torch.Tensor, not_test: bool = True) -> torch.Tensor:\n",
    "    # See note [TorchScript super()]\n",
    "    x = self.conv1(x)\n",
    "    x = self.bn1(x)\n",
    "    x = self.relu(x)\n",
    "    x = self.maxpool(x)\n",
    "\n",
    "    x = self.layer1(x)\n",
    "    x = self.layer2(x)\n",
    "    x = self.layer3(x)\n",
    "    if not_test:\n",
    "        return x\n",
    "    x = self.layer4(x)\n",
    "    x = self.avgpool(x)\n",
    "    x = self.fc(x.flatten(1,-1))\n",
    "    return x\n",
    "model._forward_impl = types.MethodType(_new_forward_impl, model)"
   ]
  },
  {
   "cell_type": "code",
   "execution_count": null,
   "metadata": {},
   "outputs": [],
   "source": [
    "#[5,1/1000, 1/2000]"
   ]
  },
  {
   "cell_type": "code",
   "execution_count": null,
   "metadata": {},
   "outputs": [],
   "source": [
    "for w in net_D.parameters():\n",
    "    nn.init.normal_(w, 0, 0.02)\n",
    "for w in net_G.parameters():\n",
    "    nn.init.normal_(w, 0, 0.02)\n",
    "    \n",
    "gamfig = GAMfig\n",
    "gamfig['name'] = 'current_best_v1_feat'\n",
    "gamfig['num_epochs'] = number_epochs\n",
    "gamfig['generator'] = net_G\n",
    "gamfig['discriminator'] = net_D\n",
    "gamfig['comparator'] = model\n",
    "gamfig['encoder'] = enc_test\n",
    "gamfig['static'] = False\n",
    "gamfig['latent_dim'] = input_channels\n",
    "gamfig['lambdas'] = [0,0, 1/2000]\n",
    "gamfig['datasizes'] = dataset_sizes\n",
    "gamfig['dataloaders'] = data_loaders\n",
    "gamfig['latent_aug_name'] = None\n",
    "gamfig['comp_layer'] = 'layer3'\n",
    "GAM_fit_save(gamfig)"
   ]
  }
 ],
 "metadata": {
  "interpreter": {
   "hash": "84db782854c2fc853c435716cefb0cc3c0d0a59289dd46f7b31f405555fefee0"
  },
  "kernelspec": {
   "display_name": "Python 3.8.12 64-bit ('base': conda)",
   "language": "python",
   "name": "python3"
  },
  "language_info": {
   "codemirror_mode": {
    "name": "ipython",
    "version": 3
   },
   "file_extension": ".py",
   "mimetype": "text/x-python",
   "name": "python",
   "nbconvert_exporter": "python",
   "pygments_lexer": "ipython3",
   "version": "3.8.12"
  },
  "orig_nbformat": 4
 },
 "nbformat": 4,
 "nbformat_minor": 2
}
