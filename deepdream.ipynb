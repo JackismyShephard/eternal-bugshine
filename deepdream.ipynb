{
 "cells": [
  {
   "cell_type": "code",
   "execution_count": 1,
   "source": [
    "import matplotlib.pyplot as plt\r\n",
    "import numpy as np\r\n",
    "import os\r\n",
    "import time\r\n",
    "from PIL import Image\r\n",
    "import torch\r\n",
    "import torchmetrics\r\n",
    "import torch.optim as optim\r\n",
    "import torch.nn as nn\r\n",
    "import torch.nn.functional as F\r\n",
    "import torchvision\r\n",
    "from pprint import pformat\r\n",
    "from collections import defaultdict\r\n",
    "from torchvision import datasets, transforms\r\n",
    "from torch.utils.data.dataset import Dataset\r\n",
    "from torchvision.datasets.utils import download_url, extract_archive"
   ],
   "outputs": [],
   "metadata": {}
  },
  {
   "cell_type": "code",
   "execution_count": 2,
   "source": [
    "root = './'\r\n",
    "filename = 'data.zip'\r\n",
    "archive = os.path.join(root, filename)\r\n",
    "data_folder = os.path.join(root, 'data/images')\r\n",
    "if (not os.path.exists(data_folder)):\r\n",
    "    extract_archive(archive, './data', False)\r\n"
   ],
   "outputs": [],
   "metadata": {}
  }
 ],
 "metadata": {
  "orig_nbformat": 4,
  "language_info": {
   "name": "python",
   "version": "3.8.10",
   "mimetype": "text/x-python",
   "codemirror_mode": {
    "name": "ipython",
    "version": 3
   },
   "pygments_lexer": "ipython3",
   "nbconvert_exporter": "python",
   "file_extension": ".py"
  },
  "kernelspec": {
   "name": "python3",
   "display_name": "Python 3.8.10 64-bit (conda)"
  },
  "interpreter": {
   "hash": "84db782854c2fc853c435716cefb0cc3c0d0a59289dd46f7b31f405555fefee0"
  }
 },
 "nbformat": 4,
 "nbformat_minor": 2
}