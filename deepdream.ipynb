{
 "cells": [
  {
   "cell_type": "code",
   "execution_count": 1,
   "source": [
    "import matplotlib.pyplot as plt\r\n",
    "import numpy as np\r\n",
    "import os\r\n",
    "import time\r\n",
    "from PIL import Image\r\n",
    "import torch\r\n",
    "import torchmetrics\r\n",
    "import torch.optim as optim\r\n",
    "import torch.nn as nn\r\n",
    "import torch.nn.functional as F\r\n",
    "import torchvision\r\n",
    "from pprint import pformat\r\n",
    "from collections import defaultdict\r\n",
    "from torchvision import datasets, transforms\r\n",
    "from torch.utils.data.dataset import Dataset\r\n",
    "from torch.utils.data import Subset, random_split\r\n",
    "from torchvision.datasets.utils import download_url, extract_archive"
   ],
   "outputs": [],
   "metadata": {}
  },
  {
   "cell_type": "markdown",
   "source": [
    "# Download dataset"
   ],
   "metadata": {}
  },
  {
   "cell_type": "code",
   "execution_count": 2,
   "source": [
    "root = './'\r\n",
    "filename = 'data.zip'\r\n",
    "archive = os.path.join(root, filename)\r\n",
    "url = 'https://sid.erda.dk/share_redirect/heaAFNnmaG/data.zip'\r\n",
    "data_folder = os.path.join(root, 'data/images')\r\n",
    "force_download = False\r\n",
    "if (not os.path.exists(data_folder) or force_download):\r\n",
    "    download_url(url, root, filename)\r\n",
    "    extract_archive(archive, './data', False)"
   ],
   "outputs": [],
   "metadata": {}
  },
  {
   "cell_type": "code",
   "execution_count": 3,
   "source": [
    "def imshow(img):\r\n",
    "    plt.figure()\r\n",
    "    plt.imshow(np.transpose(img, (1, 2, 0)))\r\n",
    "    plt.xticks([])\r\n",
    "    plt.yticks([])\r\n",
    "    plt.show()"
   ],
   "outputs": [],
   "metadata": {}
  },
  {
   "cell_type": "code",
   "execution_count": 4,
   "source": [
    "img_height = 128\r\n",
    "img_width = img_height\r\n",
    "resize_transform = transforms.Resize((img_height, img_width))\r\n",
    "pil_transforms = transforms.Compose(\r\n",
    "    [resize_transform, transforms.ToTensor()]\r\n",
    ")\r\n",
    "\r\n",
    "dataset = datasets.ImageFolder(data_folder, transform=pil_transforms)\r\n",
    "image, label = dataset[0]\r\n",
    "imshow(image)\r\n"
   ],
   "outputs": [
    {
     "output_type": "display_data",
     "data": {
      "image/png": "[encoded data removed]",
      "text/plain": [
       "<Figure size 432x288 with 1 Axes>"
      ]
     },
     "metadata": {}
    }
   ],
   "metadata": {}
  },
  {
   "cell_type": "markdown",
   "source": [
    "# Split dataset into train, validation and test sets"
   ],
   "metadata": {}
  },
  {
   "cell_type": "code",
   "execution_count": 5,
   "source": [
    "train_len = int(0.8 * len(dataset))\r\n",
    "val_len = int(0.1 * len(dataset))\r\n",
    "test_len = len(dataset) - (train_len + val_len)\r\n",
    "dataset_lengths = [train_len, val_len, test_len]\r\n",
    "train_data, val_data, test_data = random_split(dataset, dataset_lengths)\r\n",
    "num_workers = 0\r\n",
    "batch_size = 32\r\n",
    "\r\n",
    "train_loader = torch.utils.data.DataLoader(train_data, batch_size=batch_size,\r\n",
    "                                            num_workers=num_workers)\r\n",
    "val_loader = torch.utils.data.DataLoader(val_data, batch_size=batch_size,\r\n",
    "                                            num_workers=num_workers)\r\n",
    "test_loader = torch.utils.data.DataLoader(test_data, batch_size=batch_size,\r\n",
    "                                            num_workers=num_workers)"
   ],
   "outputs": [],
   "metadata": {}
  },
  {
   "cell_type": "code",
   "execution_count": 6,
   "source": [
    "iterable = iter(train_loader)\r\n",
    "image = next(iterable)"
   ],
   "outputs": [],
   "metadata": {}
  }
 ],
 "metadata": {
  "orig_nbformat": 4,
  "language_info": {
   "name": "python",
   "version": "3.8.10",
   "mimetype": "text/x-python",
   "codemirror_mode": {
    "name": "ipython",
    "version": 3
   },
   "pygments_lexer": "ipython3",
   "nbconvert_exporter": "python",
   "file_extension": ".py"
  },
  "kernelspec": {
   "name": "python3",
   "display_name": "Python 3.8.10 64-bit (conda)"
  },
  "interpreter": {
   "hash": "84db782854c2fc853c435716cefb0cc3c0d0a59289dd46f7b31f405555fefee0"
  }
 },
 "nbformat": 4,
 "nbformat_minor": 2
}